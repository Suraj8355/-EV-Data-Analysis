{
 "cells": [
  {
   "cell_type": "code",
   "execution_count": 43,
   "id": "c701c867-ffaf-4cd4-abe2-dce94f4ec72f",
   "metadata": {
    "scrolled": true
   },
   "outputs": [],
   "source": [
    "import pandas as pd\n",
    "import hashlib"
   ]
  },
  {
   "cell_type": "code",
   "execution_count": 44,
   "id": "2b281024-3731-4849-97d0-d4a179351ec8",
   "metadata": {},
   "outputs": [],
   "source": [
    "df=pd.read_csv(\"Electric_Vehicle_Population_Data.csv\")"
   ]
  },
  {
   "cell_type": "code",
   "execution_count": 45,
   "id": "2a8b8f40-a1a1-4629-a567-69a209e6f870",
   "metadata": {},
   "outputs": [
    {
     "data": {
      "text/html": [
       "<div>\n",
       "<style scoped>\n",
       "    .dataframe tbody tr th:only-of-type {\n",
       "        vertical-align: middle;\n",
       "    }\n",
       "\n",
       "    .dataframe tbody tr th {\n",
       "        vertical-align: top;\n",
       "    }\n",
       "\n",
       "    .dataframe thead th {\n",
       "        text-align: right;\n",
       "    }\n",
       "</style>\n",
       "<table border=\"1\" class=\"dataframe\">\n",
       "  <thead>\n",
       "    <tr style=\"text-align: right;\">\n",
       "      <th></th>\n",
       "      <th>VIN (1-10)</th>\n",
       "      <th>County</th>\n",
       "      <th>City</th>\n",
       "      <th>State</th>\n",
       "      <th>Postal Code</th>\n",
       "      <th>Model Year</th>\n",
       "      <th>Make</th>\n",
       "      <th>Model</th>\n",
       "      <th>Electric Vehicle Type</th>\n",
       "      <th>Clean Alternative Fuel Vehicle (CAFV) Eligibility</th>\n",
       "      <th>Electric Range</th>\n",
       "      <th>Base MSRP</th>\n",
       "      <th>Legislative District</th>\n",
       "      <th>DOL Vehicle ID</th>\n",
       "      <th>Vehicle Location</th>\n",
       "      <th>Electric Utility</th>\n",
       "      <th>2020 Census Tract</th>\n",
       "    </tr>\n",
       "  </thead>\n",
       "  <tbody>\n",
       "    <tr>\n",
       "      <th>0</th>\n",
       "      <td>JTDKN3DP2D</td>\n",
       "      <td>Yakima</td>\n",
       "      <td>Yakima</td>\n",
       "      <td>WA</td>\n",
       "      <td>98902.0</td>\n",
       "      <td>2013</td>\n",
       "      <td>TOYOTA</td>\n",
       "      <td>PRIUS</td>\n",
       "      <td>Plug-in Hybrid Electric Vehicle (PHEV)</td>\n",
       "      <td>Not eligible due to low battery range</td>\n",
       "      <td>6.0</td>\n",
       "      <td>0.0</td>\n",
       "      <td>15.0</td>\n",
       "      <td>165252538</td>\n",
       "      <td>POINT (-120.51904 46.59783)</td>\n",
       "      <td>PACIFICORP</td>\n",
       "      <td>5.307700e+10</td>\n",
       "    </tr>\n",
       "    <tr>\n",
       "      <th>1</th>\n",
       "      <td>1FMCU0E1XS</td>\n",
       "      <td>Kitsap</td>\n",
       "      <td>Port Orchard</td>\n",
       "      <td>WA</td>\n",
       "      <td>98366.0</td>\n",
       "      <td>2025</td>\n",
       "      <td>FORD</td>\n",
       "      <td>ESCAPE</td>\n",
       "      <td>Plug-in Hybrid Electric Vehicle (PHEV)</td>\n",
       "      <td>Clean Alternative Fuel Vehicle Eligible</td>\n",
       "      <td>37.0</td>\n",
       "      <td>0.0</td>\n",
       "      <td>26.0</td>\n",
       "      <td>278572521</td>\n",
       "      <td>POINT (-122.63847 47.54103)</td>\n",
       "      <td>PUGET SOUND ENERGY INC</td>\n",
       "      <td>5.303509e+10</td>\n",
       "    </tr>\n",
       "    <tr>\n",
       "      <th>2</th>\n",
       "      <td>JM3KKBHA9R</td>\n",
       "      <td>Kitsap</td>\n",
       "      <td>Kingston</td>\n",
       "      <td>WA</td>\n",
       "      <td>98346.0</td>\n",
       "      <td>2024</td>\n",
       "      <td>MAZDA</td>\n",
       "      <td>CX-90</td>\n",
       "      <td>Plug-in Hybrid Electric Vehicle (PHEV)</td>\n",
       "      <td>Not eligible due to low battery range</td>\n",
       "      <td>26.0</td>\n",
       "      <td>0.0</td>\n",
       "      <td>23.0</td>\n",
       "      <td>275123642</td>\n",
       "      <td>POINT (-122.4977 47.79802)</td>\n",
       "      <td>PUGET SOUND ENERGY INC</td>\n",
       "      <td>5.303509e+10</td>\n",
       "    </tr>\n",
       "    <tr>\n",
       "      <th>3</th>\n",
       "      <td>7SAYGDEE8P</td>\n",
       "      <td>Thurston</td>\n",
       "      <td>Olympia</td>\n",
       "      <td>WA</td>\n",
       "      <td>98501.0</td>\n",
       "      <td>2023</td>\n",
       "      <td>TESLA</td>\n",
       "      <td>MODEL Y</td>\n",
       "      <td>Battery Electric Vehicle (BEV)</td>\n",
       "      <td>Eligibility unknown as battery range has not b...</td>\n",
       "      <td>0.0</td>\n",
       "      <td>0.0</td>\n",
       "      <td>35.0</td>\n",
       "      <td>249569323</td>\n",
       "      <td>POINT (-122.89165 47.03954)</td>\n",
       "      <td>PUGET SOUND ENERGY INC</td>\n",
       "      <td>5.306701e+10</td>\n",
       "    </tr>\n",
       "    <tr>\n",
       "      <th>4</th>\n",
       "      <td>5YJ3E1EB5K</td>\n",
       "      <td>Thurston</td>\n",
       "      <td>Rainier</td>\n",
       "      <td>WA</td>\n",
       "      <td>98576.0</td>\n",
       "      <td>2019</td>\n",
       "      <td>TESLA</td>\n",
       "      <td>MODEL 3</td>\n",
       "      <td>Battery Electric Vehicle (BEV)</td>\n",
       "      <td>Clean Alternative Fuel Vehicle Eligible</td>\n",
       "      <td>220.0</td>\n",
       "      <td>0.0</td>\n",
       "      <td>20.0</td>\n",
       "      <td>283135107</td>\n",
       "      <td>POINT (-122.68993 46.88897)</td>\n",
       "      <td>PUGET SOUND ENERGY INC</td>\n",
       "      <td>5.306701e+10</td>\n",
       "    </tr>\n",
       "    <tr>\n",
       "      <th>...</th>\n",
       "      <td>...</td>\n",
       "      <td>...</td>\n",
       "      <td>...</td>\n",
       "      <td>...</td>\n",
       "      <td>...</td>\n",
       "      <td>...</td>\n",
       "      <td>...</td>\n",
       "      <td>...</td>\n",
       "      <td>...</td>\n",
       "      <td>...</td>\n",
       "      <td>...</td>\n",
       "      <td>...</td>\n",
       "      <td>...</td>\n",
       "      <td>...</td>\n",
       "      <td>...</td>\n",
       "      <td>...</td>\n",
       "      <td>...</td>\n",
       "    </tr>\n",
       "    <tr>\n",
       "      <th>261693</th>\n",
       "      <td>KNDC4DLC8P</td>\n",
       "      <td>Clark</td>\n",
       "      <td>Vancouver</td>\n",
       "      <td>WA</td>\n",
       "      <td>98665.0</td>\n",
       "      <td>2023</td>\n",
       "      <td>KIA</td>\n",
       "      <td>EV6</td>\n",
       "      <td>Battery Electric Vehicle (BEV)</td>\n",
       "      <td>Eligibility unknown as battery range has not b...</td>\n",
       "      <td>0.0</td>\n",
       "      <td>0.0</td>\n",
       "      <td>49.0</td>\n",
       "      <td>234925078</td>\n",
       "      <td>POINT (-122.64443 45.67871)</td>\n",
       "      <td>BONNEVILLE POWER ADMINISTRATION||PUD NO 1 OF C...</td>\n",
       "      <td>5.301104e+10</td>\n",
       "    </tr>\n",
       "    <tr>\n",
       "      <th>261694</th>\n",
       "      <td>1GYKPNRL6S</td>\n",
       "      <td>Snohomish</td>\n",
       "      <td>Snohomish</td>\n",
       "      <td>WA</td>\n",
       "      <td>98296.0</td>\n",
       "      <td>2025</td>\n",
       "      <td>CADILLAC</td>\n",
       "      <td>LYRIQ</td>\n",
       "      <td>Battery Electric Vehicle (BEV)</td>\n",
       "      <td>Eligibility unknown as battery range has not b...</td>\n",
       "      <td>0.0</td>\n",
       "      <td>0.0</td>\n",
       "      <td>1.0</td>\n",
       "      <td>275487509</td>\n",
       "      <td>POINT (-122.1389 47.87115)</td>\n",
       "      <td>PUGET SOUND ENERGY INC</td>\n",
       "      <td>5.306105e+10</td>\n",
       "    </tr>\n",
       "    <tr>\n",
       "      <th>261695</th>\n",
       "      <td>1N4BZ0CP8G</td>\n",
       "      <td>King</td>\n",
       "      <td>Seattle</td>\n",
       "      <td>WA</td>\n",
       "      <td>98144.0</td>\n",
       "      <td>2016</td>\n",
       "      <td>NISSAN</td>\n",
       "      <td>LEAF</td>\n",
       "      <td>Battery Electric Vehicle (BEV)</td>\n",
       "      <td>Clean Alternative Fuel Vehicle Eligible</td>\n",
       "      <td>84.0</td>\n",
       "      <td>0.0</td>\n",
       "      <td>37.0</td>\n",
       "      <td>117655261</td>\n",
       "      <td>POINT (-122.30866 47.57874)</td>\n",
       "      <td>CITY OF SEATTLE - (WA)|CITY OF TACOMA - (WA)</td>\n",
       "      <td>5.303301e+10</td>\n",
       "    </tr>\n",
       "    <tr>\n",
       "      <th>261696</th>\n",
       "      <td>7SAYGDEE8T</td>\n",
       "      <td>King</td>\n",
       "      <td>Renton</td>\n",
       "      <td>WA</td>\n",
       "      <td>98055.0</td>\n",
       "      <td>2026</td>\n",
       "      <td>TESLA</td>\n",
       "      <td>MODEL Y</td>\n",
       "      <td>Battery Electric Vehicle (BEV)</td>\n",
       "      <td>Eligibility unknown as battery range has not b...</td>\n",
       "      <td>0.0</td>\n",
       "      <td>0.0</td>\n",
       "      <td>33.0</td>\n",
       "      <td>282644701</td>\n",
       "      <td>POINT (-122.20784 47.46004)</td>\n",
       "      <td>PUGET SOUND ENERGY INC||CITY OF TACOMA - (WA)</td>\n",
       "      <td>5.303303e+10</td>\n",
       "    </tr>\n",
       "    <tr>\n",
       "      <th>261697</th>\n",
       "      <td>5YJ3E1EA4P</td>\n",
       "      <td>King</td>\n",
       "      <td>Bothell</td>\n",
       "      <td>WA</td>\n",
       "      <td>98011.0</td>\n",
       "      <td>2023</td>\n",
       "      <td>TESLA</td>\n",
       "      <td>MODEL 3</td>\n",
       "      <td>Battery Electric Vehicle (BEV)</td>\n",
       "      <td>Eligibility unknown as battery range has not b...</td>\n",
       "      <td>0.0</td>\n",
       "      <td>0.0</td>\n",
       "      <td>1.0</td>\n",
       "      <td>256200906</td>\n",
       "      <td>POINT (-122.20563 47.76144)</td>\n",
       "      <td>PUGET SOUND ENERGY INC||CITY OF TACOMA - (WA)</td>\n",
       "      <td>5.303302e+10</td>\n",
       "    </tr>\n",
       "  </tbody>\n",
       "</table>\n",
       "<p>261698 rows × 17 columns</p>\n",
       "</div>"
      ],
      "text/plain": [
       "        VIN (1-10)     County          City State  Postal Code  Model Year  \\\n",
       "0       JTDKN3DP2D     Yakima        Yakima    WA      98902.0        2013   \n",
       "1       1FMCU0E1XS     Kitsap  Port Orchard    WA      98366.0        2025   \n",
       "2       JM3KKBHA9R     Kitsap      Kingston    WA      98346.0        2024   \n",
       "3       7SAYGDEE8P   Thurston       Olympia    WA      98501.0        2023   \n",
       "4       5YJ3E1EB5K   Thurston       Rainier    WA      98576.0        2019   \n",
       "...            ...        ...           ...   ...          ...         ...   \n",
       "261693  KNDC4DLC8P      Clark     Vancouver    WA      98665.0        2023   \n",
       "261694  1GYKPNRL6S  Snohomish     Snohomish    WA      98296.0        2025   \n",
       "261695  1N4BZ0CP8G       King       Seattle    WA      98144.0        2016   \n",
       "261696  7SAYGDEE8T       King        Renton    WA      98055.0        2026   \n",
       "261697  5YJ3E1EA4P       King       Bothell    WA      98011.0        2023   \n",
       "\n",
       "            Make    Model                   Electric Vehicle Type  \\\n",
       "0         TOYOTA    PRIUS  Plug-in Hybrid Electric Vehicle (PHEV)   \n",
       "1           FORD   ESCAPE  Plug-in Hybrid Electric Vehicle (PHEV)   \n",
       "2          MAZDA    CX-90  Plug-in Hybrid Electric Vehicle (PHEV)   \n",
       "3          TESLA  MODEL Y          Battery Electric Vehicle (BEV)   \n",
       "4          TESLA  MODEL 3          Battery Electric Vehicle (BEV)   \n",
       "...          ...      ...                                     ...   \n",
       "261693       KIA      EV6          Battery Electric Vehicle (BEV)   \n",
       "261694  CADILLAC    LYRIQ          Battery Electric Vehicle (BEV)   \n",
       "261695    NISSAN     LEAF          Battery Electric Vehicle (BEV)   \n",
       "261696     TESLA  MODEL Y          Battery Electric Vehicle (BEV)   \n",
       "261697     TESLA  MODEL 3          Battery Electric Vehicle (BEV)   \n",
       "\n",
       "        Clean Alternative Fuel Vehicle (CAFV) Eligibility  Electric Range  \\\n",
       "0                   Not eligible due to low battery range             6.0   \n",
       "1                 Clean Alternative Fuel Vehicle Eligible            37.0   \n",
       "2                   Not eligible due to low battery range            26.0   \n",
       "3       Eligibility unknown as battery range has not b...             0.0   \n",
       "4                 Clean Alternative Fuel Vehicle Eligible           220.0   \n",
       "...                                                   ...             ...   \n",
       "261693  Eligibility unknown as battery range has not b...             0.0   \n",
       "261694  Eligibility unknown as battery range has not b...             0.0   \n",
       "261695            Clean Alternative Fuel Vehicle Eligible            84.0   \n",
       "261696  Eligibility unknown as battery range has not b...             0.0   \n",
       "261697  Eligibility unknown as battery range has not b...             0.0   \n",
       "\n",
       "        Base MSRP  Legislative District  DOL Vehicle ID  \\\n",
       "0             0.0                  15.0       165252538   \n",
       "1             0.0                  26.0       278572521   \n",
       "2             0.0                  23.0       275123642   \n",
       "3             0.0                  35.0       249569323   \n",
       "4             0.0                  20.0       283135107   \n",
       "...           ...                   ...             ...   \n",
       "261693        0.0                  49.0       234925078   \n",
       "261694        0.0                   1.0       275487509   \n",
       "261695        0.0                  37.0       117655261   \n",
       "261696        0.0                  33.0       282644701   \n",
       "261697        0.0                   1.0       256200906   \n",
       "\n",
       "                   Vehicle Location  \\\n",
       "0       POINT (-120.51904 46.59783)   \n",
       "1       POINT (-122.63847 47.54103)   \n",
       "2        POINT (-122.4977 47.79802)   \n",
       "3       POINT (-122.89165 47.03954)   \n",
       "4       POINT (-122.68993 46.88897)   \n",
       "...                             ...   \n",
       "261693  POINT (-122.64443 45.67871)   \n",
       "261694   POINT (-122.1389 47.87115)   \n",
       "261695  POINT (-122.30866 47.57874)   \n",
       "261696  POINT (-122.20784 47.46004)   \n",
       "261697  POINT (-122.20563 47.76144)   \n",
       "\n",
       "                                         Electric Utility  2020 Census Tract  \n",
       "0                                              PACIFICORP       5.307700e+10  \n",
       "1                                  PUGET SOUND ENERGY INC       5.303509e+10  \n",
       "2                                  PUGET SOUND ENERGY INC       5.303509e+10  \n",
       "3                                  PUGET SOUND ENERGY INC       5.306701e+10  \n",
       "4                                  PUGET SOUND ENERGY INC       5.306701e+10  \n",
       "...                                                   ...                ...  \n",
       "261693  BONNEVILLE POWER ADMINISTRATION||PUD NO 1 OF C...       5.301104e+10  \n",
       "261694                             PUGET SOUND ENERGY INC       5.306105e+10  \n",
       "261695       CITY OF SEATTLE - (WA)|CITY OF TACOMA - (WA)       5.303301e+10  \n",
       "261696      PUGET SOUND ENERGY INC||CITY OF TACOMA - (WA)       5.303303e+10  \n",
       "261697      PUGET SOUND ENERGY INC||CITY OF TACOMA - (WA)       5.303302e+10  \n",
       "\n",
       "[261698 rows x 17 columns]"
      ]
     },
     "execution_count": 45,
     "metadata": {},
     "output_type": "execute_result"
    }
   ],
   "source": [
    "df"
   ]
  },
  {
   "cell_type": "markdown",
   "id": "d6f3ae5b-6542-4c2f-8ca0-ca8c37c1d895",
   "metadata": {},
   "source": [
    "# 1. Data Cleaning Questions"
   ]
  },
  {
   "cell_type": "markdown",
   "id": "0088e1b7-524e-4d84-a6b6-454bf2e4f6b2",
   "metadata": {},
   "source": [
    "How many missing values exist in the dataset, and in which columns?"
   ]
  },
  {
   "cell_type": "code",
   "execution_count": 46,
   "id": "28c73e25-3212-4f4e-83df-9a2efee2bde0",
   "metadata": {},
   "outputs": [],
   "source": [
    "missing_values = df.isna().sum()"
   ]
  },
  {
   "cell_type": "code",
   "execution_count": null,
   "id": "8629e36e-7c5e-4f15-a318-9fa7d88f6936",
   "metadata": {},
   "outputs": [],
   "source": []
  },
  {
   "cell_type": "code",
   "execution_count": 47,
   "id": "f117d0a0-61cb-49eb-bf5d-7c726be0d424",
   "metadata": {},
   "outputs": [
    {
     "data": {
      "text/plain": [
       "VIN (1-10)                                             0\n",
       "County                                                10\n",
       "City                                                  10\n",
       "State                                                  0\n",
       "Postal Code                                           10\n",
       "Model Year                                             0\n",
       "Make                                                   0\n",
       "Model                                                  0\n",
       "Electric Vehicle Type                                  0\n",
       "Clean Alternative Fuel Vehicle (CAFV) Eligibility      0\n",
       "Electric Range                                         3\n",
       "Base MSRP                                              3\n",
       "Legislative District                                 628\n",
       "DOL Vehicle ID                                         0\n",
       "Vehicle Location                                      18\n",
       "Electric Utility                                      10\n",
       "2020 Census Tract                                     10\n",
       "dtype: int64"
      ]
     },
     "execution_count": 47,
     "metadata": {},
     "output_type": "execute_result"
    }
   ],
   "source": [
    "missing_values"
   ]
  },
  {
   "cell_type": "code",
   "execution_count": 48,
   "id": "cfb0bd84-20e0-4691-b60f-2581af8777c7",
   "metadata": {},
   "outputs": [],
   "source": [
    "df['Base MSRP'] = df['Base MSRP'].replace(0, pd.NA)"
   ]
  },
  {
   "cell_type": "markdown",
   "id": "bf1f0227-a914-45f6-8311-f7431cab7f09",
   "metadata": {},
   "source": [
    " How should missing or zero values in the Base MSRP and Electric Range columns be handled ?"
   ]
  },
  {
   "cell_type": "code",
   "execution_count": 49,
   "id": "3a40fca8-292c-40b2-b03c-021c6c0fd09f",
   "metadata": {},
   "outputs": [
    {
     "data": {
      "text/plain": [
       "np.int64(258513)"
      ]
     },
     "execution_count": 49,
     "metadata": {},
     "output_type": "execute_result"
    }
   ],
   "source": [
    "df['Base MSRP'].isna().sum()"
   ]
  },
  {
   "cell_type": "code",
   "execution_count": 50,
   "id": "4bb56943-63d9-4353-9b8a-c844d5d1540a",
   "metadata": {},
   "outputs": [],
   "source": [
    "df['Electric Range'] = df['Electric Range'].replace(0, pd.NA)"
   ]
  },
  {
   "cell_type": "code",
   "execution_count": 51,
   "id": "40a0f1cf-8791-44c4-aa90-37e24f1a314b",
   "metadata": {},
   "outputs": [
    {
     "data": {
      "text/plain": [
       "np.int64(160891)"
      ]
     },
     "execution_count": 51,
     "metadata": {},
     "output_type": "execute_result"
    }
   ],
   "source": [
    "df['Electric Range'].isna().sum()"
   ]
  },
  {
   "cell_type": "code",
   "execution_count": 52,
   "id": "6845e5ef-d9dd-42d9-ad2c-879467e5cb99",
   "metadata": {},
   "outputs": [
    {
     "name": "stderr",
     "output_type": "stream",
     "text": [
      "C:\\Users\\Suraj\\AppData\\Local\\Temp\\ipykernel_9468\\2011867229.py:1: FutureWarning: Downcasting object dtype arrays on .fillna, .ffill, .bfill is deprecated and will change in a future version. Call result.infer_objects(copy=False) instead. To opt-in to the future behavior, set `pd.set_option('future.no_silent_downcasting', True)`\n",
      "  df['Base MSRP'] = df['Base MSRP'].fillna(df['Base MSRP'].median())\n"
     ]
    }
   ],
   "source": [
    "df['Base MSRP'] = df['Base MSRP'].fillna(df['Base MSRP'].median())"
   ]
  },
  {
   "cell_type": "code",
   "execution_count": 53,
   "id": "295176e3-81c5-4cdb-8244-704fbeb43488",
   "metadata": {},
   "outputs": [
    {
     "name": "stderr",
     "output_type": "stream",
     "text": [
      "C:\\Users\\Suraj\\AppData\\Local\\Temp\\ipykernel_9468\\622055649.py:1: FutureWarning: Downcasting object dtype arrays on .fillna, .ffill, .bfill is deprecated and will change in a future version. Call result.infer_objects(copy=False) instead. To opt-in to the future behavior, set `pd.set_option('future.no_silent_downcasting', True)`\n",
      "  df['Electric Range'] = df['Electric Range'].fillna(df['Electric Range'].median())\n"
     ]
    }
   ],
   "source": [
    "df['Electric Range'] = df['Electric Range'].fillna(df['Electric Range'].median())"
   ]
  },
  {
   "cell_type": "code",
   "execution_count": 54,
   "id": "0f7704d1-7324-4a81-b28f-95e4702be5e0",
   "metadata": {},
   "outputs": [
    {
     "data": {
      "text/plain": [
       "np.int64(0)"
      ]
     },
     "execution_count": 54,
     "metadata": {},
     "output_type": "execute_result"
    }
   ],
   "source": [
    "df['Base MSRP'].isna().sum()"
   ]
  },
  {
   "cell_type": "code",
   "execution_count": 55,
   "id": "55c29b9d-fcf6-429b-b623-db38cb91a723",
   "metadata": {},
   "outputs": [
    {
     "data": {
      "text/plain": [
       "np.int64(0)"
      ]
     },
     "execution_count": 55,
     "metadata": {},
     "output_type": "execute_result"
    }
   ],
   "source": [
    "df['Electric Range'].isna().sum()"
   ]
  },
  {
   "cell_type": "markdown",
   "id": "ce415ae8-4f43-4b92-a90c-7b4a046ceb6b",
   "metadata": {},
   "source": [
    "Are there duplicate records in the dataset? If so, how should they be managed?"
   ]
  },
  {
   "cell_type": "code",
   "execution_count": 56,
   "id": "80cfa5a4-3e69-48f3-9138-495f3eb31a23",
   "metadata": {},
   "outputs": [],
   "source": [
    "full_duplicates = df.duplicated().sum()"
   ]
  },
  {
   "cell_type": "code",
   "execution_count": 57,
   "id": "a3e7d41d-05a0-483d-ba7a-90495045c06e",
   "metadata": {},
   "outputs": [
    {
     "data": {
      "text/plain": [
       "np.int64(0)"
      ]
     },
     "execution_count": 57,
     "metadata": {},
     "output_type": "execute_result"
    }
   ],
   "source": [
    "full_duplicates"
   ]
  },
  {
   "cell_type": "code",
   "execution_count": 58,
   "id": "338ae39d-ee33-4b7a-ad77-23efda369a0a",
   "metadata": {},
   "outputs": [],
   "source": [
    "subset_duplicates = df.duplicated(subset=['Make', 'Model', 'Model Year']).sum()"
   ]
  },
  {
   "cell_type": "code",
   "execution_count": 59,
   "id": "074eee00-d971-4062-91de-5be843e95fe8",
   "metadata": {},
   "outputs": [
    {
     "data": {
      "text/plain": [
       "np.int64(261053)"
      ]
     },
     "execution_count": 59,
     "metadata": {},
     "output_type": "execute_result"
    }
   ],
   "source": [
    "subset_duplicates"
   ]
  },
  {
   "cell_type": "code",
   "execution_count": 60,
   "id": "2e4726cb-8c25-4810-871c-9ec3c8f0adc5",
   "metadata": {},
   "outputs": [
    {
     "data": {
      "text/html": [
       "<div>\n",
       "<style scoped>\n",
       "    .dataframe tbody tr th:only-of-type {\n",
       "        vertical-align: middle;\n",
       "    }\n",
       "\n",
       "    .dataframe tbody tr th {\n",
       "        vertical-align: top;\n",
       "    }\n",
       "\n",
       "    .dataframe thead th {\n",
       "        text-align: right;\n",
       "    }\n",
       "</style>\n",
       "<table border=\"1\" class=\"dataframe\">\n",
       "  <thead>\n",
       "    <tr style=\"text-align: right;\">\n",
       "      <th></th>\n",
       "      <th>VIN (1-10)</th>\n",
       "      <th>County</th>\n",
       "      <th>City</th>\n",
       "      <th>State</th>\n",
       "      <th>Postal Code</th>\n",
       "      <th>Model Year</th>\n",
       "      <th>Make</th>\n",
       "      <th>Model</th>\n",
       "      <th>Electric Vehicle Type</th>\n",
       "      <th>Clean Alternative Fuel Vehicle (CAFV) Eligibility</th>\n",
       "      <th>Electric Range</th>\n",
       "      <th>Base MSRP</th>\n",
       "      <th>Legislative District</th>\n",
       "      <th>DOL Vehicle ID</th>\n",
       "      <th>Vehicle Location</th>\n",
       "      <th>Electric Utility</th>\n",
       "      <th>2020 Census Tract</th>\n",
       "    </tr>\n",
       "  </thead>\n",
       "  <tbody>\n",
       "    <tr>\n",
       "      <th>0</th>\n",
       "      <td>JTDKN3DP2D</td>\n",
       "      <td>Yakima</td>\n",
       "      <td>Yakima</td>\n",
       "      <td>WA</td>\n",
       "      <td>98902.0</td>\n",
       "      <td>2013</td>\n",
       "      <td>TOYOTA</td>\n",
       "      <td>PRIUS</td>\n",
       "      <td>Plug-in Hybrid Electric Vehicle (PHEV)</td>\n",
       "      <td>Not eligible due to low battery range</td>\n",
       "      <td>6.0</td>\n",
       "      <td>59900.0</td>\n",
       "      <td>15.0</td>\n",
       "      <td>165252538</td>\n",
       "      <td>POINT (-120.51904 46.59783)</td>\n",
       "      <td>PACIFICORP</td>\n",
       "      <td>5.307700e+10</td>\n",
       "    </tr>\n",
       "    <tr>\n",
       "      <th>1</th>\n",
       "      <td>1FMCU0E1XS</td>\n",
       "      <td>Kitsap</td>\n",
       "      <td>Port Orchard</td>\n",
       "      <td>WA</td>\n",
       "      <td>98366.0</td>\n",
       "      <td>2025</td>\n",
       "      <td>FORD</td>\n",
       "      <td>ESCAPE</td>\n",
       "      <td>Plug-in Hybrid Electric Vehicle (PHEV)</td>\n",
       "      <td>Clean Alternative Fuel Vehicle Eligible</td>\n",
       "      <td>37.0</td>\n",
       "      <td>59900.0</td>\n",
       "      <td>26.0</td>\n",
       "      <td>278572521</td>\n",
       "      <td>POINT (-122.63847 47.54103)</td>\n",
       "      <td>PUGET SOUND ENERGY INC</td>\n",
       "      <td>5.303509e+10</td>\n",
       "    </tr>\n",
       "    <tr>\n",
       "      <th>2</th>\n",
       "      <td>JM3KKBHA9R</td>\n",
       "      <td>Kitsap</td>\n",
       "      <td>Kingston</td>\n",
       "      <td>WA</td>\n",
       "      <td>98346.0</td>\n",
       "      <td>2024</td>\n",
       "      <td>MAZDA</td>\n",
       "      <td>CX-90</td>\n",
       "      <td>Plug-in Hybrid Electric Vehicle (PHEV)</td>\n",
       "      <td>Not eligible due to low battery range</td>\n",
       "      <td>26.0</td>\n",
       "      <td>59900.0</td>\n",
       "      <td>23.0</td>\n",
       "      <td>275123642</td>\n",
       "      <td>POINT (-122.4977 47.79802)</td>\n",
       "      <td>PUGET SOUND ENERGY INC</td>\n",
       "      <td>5.303509e+10</td>\n",
       "    </tr>\n",
       "    <tr>\n",
       "      <th>3</th>\n",
       "      <td>7SAYGDEE8P</td>\n",
       "      <td>Thurston</td>\n",
       "      <td>Olympia</td>\n",
       "      <td>WA</td>\n",
       "      <td>98501.0</td>\n",
       "      <td>2023</td>\n",
       "      <td>TESLA</td>\n",
       "      <td>MODEL Y</td>\n",
       "      <td>Battery Electric Vehicle (BEV)</td>\n",
       "      <td>Eligibility unknown as battery range has not b...</td>\n",
       "      <td>53.0</td>\n",
       "      <td>59900.0</td>\n",
       "      <td>35.0</td>\n",
       "      <td>249569323</td>\n",
       "      <td>POINT (-122.89165 47.03954)</td>\n",
       "      <td>PUGET SOUND ENERGY INC</td>\n",
       "      <td>5.306701e+10</td>\n",
       "    </tr>\n",
       "    <tr>\n",
       "      <th>4</th>\n",
       "      <td>5YJ3E1EB5K</td>\n",
       "      <td>Thurston</td>\n",
       "      <td>Rainier</td>\n",
       "      <td>WA</td>\n",
       "      <td>98576.0</td>\n",
       "      <td>2019</td>\n",
       "      <td>TESLA</td>\n",
       "      <td>MODEL 3</td>\n",
       "      <td>Battery Electric Vehicle (BEV)</td>\n",
       "      <td>Clean Alternative Fuel Vehicle Eligible</td>\n",
       "      <td>220.0</td>\n",
       "      <td>59900.0</td>\n",
       "      <td>20.0</td>\n",
       "      <td>283135107</td>\n",
       "      <td>POINT (-122.68993 46.88897)</td>\n",
       "      <td>PUGET SOUND ENERGY INC</td>\n",
       "      <td>5.306701e+10</td>\n",
       "    </tr>\n",
       "    <tr>\n",
       "      <th>5</th>\n",
       "      <td>5YJ3E1EA6K</td>\n",
       "      <td>Snohomish</td>\n",
       "      <td>Snohomish</td>\n",
       "      <td>WA</td>\n",
       "      <td>98296.0</td>\n",
       "      <td>2019</td>\n",
       "      <td>TESLA</td>\n",
       "      <td>MODEL 3</td>\n",
       "      <td>Battery Electric Vehicle (BEV)</td>\n",
       "      <td>Clean Alternative Fuel Vehicle Eligible</td>\n",
       "      <td>220.0</td>\n",
       "      <td>59900.0</td>\n",
       "      <td>44.0</td>\n",
       "      <td>176340356</td>\n",
       "      <td>POINT (-122.1389 47.87115)</td>\n",
       "      <td>PUGET SOUND ENERGY INC</td>\n",
       "      <td>5.306104e+10</td>\n",
       "    </tr>\n",
       "    <tr>\n",
       "      <th>6</th>\n",
       "      <td>1N4AZ0CP8D</td>\n",
       "      <td>Kitsap</td>\n",
       "      <td>Port Orchard</td>\n",
       "      <td>WA</td>\n",
       "      <td>98367.0</td>\n",
       "      <td>2013</td>\n",
       "      <td>NISSAN</td>\n",
       "      <td>LEAF</td>\n",
       "      <td>Battery Electric Vehicle (BEV)</td>\n",
       "      <td>Clean Alternative Fuel Vehicle Eligible</td>\n",
       "      <td>75.0</td>\n",
       "      <td>59900.0</td>\n",
       "      <td>26.0</td>\n",
       "      <td>134808523</td>\n",
       "      <td>POINT (-122.70348 47.52028)</td>\n",
       "      <td>PUGET SOUND ENERGY INC</td>\n",
       "      <td>5.303509e+10</td>\n",
       "    </tr>\n",
       "    <tr>\n",
       "      <th>7</th>\n",
       "      <td>JTJCJMGA1R</td>\n",
       "      <td>Snohomish</td>\n",
       "      <td>Stanwood</td>\n",
       "      <td>WA</td>\n",
       "      <td>98292.0</td>\n",
       "      <td>2024</td>\n",
       "      <td>LEXUS</td>\n",
       "      <td>RX</td>\n",
       "      <td>Plug-in Hybrid Electric Vehicle (PHEV)</td>\n",
       "      <td>Clean Alternative Fuel Vehicle Eligible</td>\n",
       "      <td>37.0</td>\n",
       "      <td>59900.0</td>\n",
       "      <td>38.0</td>\n",
       "      <td>256431318</td>\n",
       "      <td>POINT (-122.37265 48.24159)</td>\n",
       "      <td>PUGET SOUND ENERGY INC</td>\n",
       "      <td>5.306194e+10</td>\n",
       "    </tr>\n",
       "    <tr>\n",
       "      <th>8</th>\n",
       "      <td>1N4AZ0CP4E</td>\n",
       "      <td>King</td>\n",
       "      <td>Seattle</td>\n",
       "      <td>WA</td>\n",
       "      <td>98144.0</td>\n",
       "      <td>2014</td>\n",
       "      <td>NISSAN</td>\n",
       "      <td>LEAF</td>\n",
       "      <td>Battery Electric Vehicle (BEV)</td>\n",
       "      <td>Clean Alternative Fuel Vehicle Eligible</td>\n",
       "      <td>84.0</td>\n",
       "      <td>59900.0</td>\n",
       "      <td>11.0</td>\n",
       "      <td>182508224</td>\n",
       "      <td>POINT (-122.30866 47.57874)</td>\n",
       "      <td>CITY OF SEATTLE - (WA)|CITY OF TACOMA - (WA)</td>\n",
       "      <td>5.303301e+10</td>\n",
       "    </tr>\n",
       "    <tr>\n",
       "      <th>9</th>\n",
       "      <td>5YJSA1E28H</td>\n",
       "      <td>Thurston</td>\n",
       "      <td>Olympia</td>\n",
       "      <td>WA</td>\n",
       "      <td>98502.0</td>\n",
       "      <td>2017</td>\n",
       "      <td>TESLA</td>\n",
       "      <td>MODEL S</td>\n",
       "      <td>Battery Electric Vehicle (BEV)</td>\n",
       "      <td>Clean Alternative Fuel Vehicle Eligible</td>\n",
       "      <td>210.0</td>\n",
       "      <td>59900.0</td>\n",
       "      <td>35.0</td>\n",
       "      <td>475963246</td>\n",
       "      <td>POINT (-122.92333 47.03779)</td>\n",
       "      <td>PUGET SOUND ENERGY INC</td>\n",
       "      <td>5.306701e+10</td>\n",
       "    </tr>\n",
       "  </tbody>\n",
       "</table>\n",
       "</div>"
      ],
      "text/plain": [
       "   VIN (1-10)     County          City State  Postal Code  Model Year    Make  \\\n",
       "0  JTDKN3DP2D     Yakima        Yakima    WA      98902.0        2013  TOYOTA   \n",
       "1  1FMCU0E1XS     Kitsap  Port Orchard    WA      98366.0        2025    FORD   \n",
       "2  JM3KKBHA9R     Kitsap      Kingston    WA      98346.0        2024   MAZDA   \n",
       "3  7SAYGDEE8P   Thurston       Olympia    WA      98501.0        2023   TESLA   \n",
       "4  5YJ3E1EB5K   Thurston       Rainier    WA      98576.0        2019   TESLA   \n",
       "5  5YJ3E1EA6K  Snohomish     Snohomish    WA      98296.0        2019   TESLA   \n",
       "6  1N4AZ0CP8D     Kitsap  Port Orchard    WA      98367.0        2013  NISSAN   \n",
       "7  JTJCJMGA1R  Snohomish      Stanwood    WA      98292.0        2024   LEXUS   \n",
       "8  1N4AZ0CP4E       King       Seattle    WA      98144.0        2014  NISSAN   \n",
       "9  5YJSA1E28H   Thurston       Olympia    WA      98502.0        2017   TESLA   \n",
       "\n",
       "     Model                   Electric Vehicle Type  \\\n",
       "0    PRIUS  Plug-in Hybrid Electric Vehicle (PHEV)   \n",
       "1   ESCAPE  Plug-in Hybrid Electric Vehicle (PHEV)   \n",
       "2    CX-90  Plug-in Hybrid Electric Vehicle (PHEV)   \n",
       "3  MODEL Y          Battery Electric Vehicle (BEV)   \n",
       "4  MODEL 3          Battery Electric Vehicle (BEV)   \n",
       "5  MODEL 3          Battery Electric Vehicle (BEV)   \n",
       "6     LEAF          Battery Electric Vehicle (BEV)   \n",
       "7       RX  Plug-in Hybrid Electric Vehicle (PHEV)   \n",
       "8     LEAF          Battery Electric Vehicle (BEV)   \n",
       "9  MODEL S          Battery Electric Vehicle (BEV)   \n",
       "\n",
       "   Clean Alternative Fuel Vehicle (CAFV) Eligibility  Electric Range  \\\n",
       "0              Not eligible due to low battery range             6.0   \n",
       "1            Clean Alternative Fuel Vehicle Eligible            37.0   \n",
       "2              Not eligible due to low battery range            26.0   \n",
       "3  Eligibility unknown as battery range has not b...            53.0   \n",
       "4            Clean Alternative Fuel Vehicle Eligible           220.0   \n",
       "5            Clean Alternative Fuel Vehicle Eligible           220.0   \n",
       "6            Clean Alternative Fuel Vehicle Eligible            75.0   \n",
       "7            Clean Alternative Fuel Vehicle Eligible            37.0   \n",
       "8            Clean Alternative Fuel Vehicle Eligible            84.0   \n",
       "9            Clean Alternative Fuel Vehicle Eligible           210.0   \n",
       "\n",
       "   Base MSRP  Legislative District  DOL Vehicle ID  \\\n",
       "0    59900.0                  15.0       165252538   \n",
       "1    59900.0                  26.0       278572521   \n",
       "2    59900.0                  23.0       275123642   \n",
       "3    59900.0                  35.0       249569323   \n",
       "4    59900.0                  20.0       283135107   \n",
       "5    59900.0                  44.0       176340356   \n",
       "6    59900.0                  26.0       134808523   \n",
       "7    59900.0                  38.0       256431318   \n",
       "8    59900.0                  11.0       182508224   \n",
       "9    59900.0                  35.0       475963246   \n",
       "\n",
       "              Vehicle Location                              Electric Utility  \\\n",
       "0  POINT (-120.51904 46.59783)                                    PACIFICORP   \n",
       "1  POINT (-122.63847 47.54103)                        PUGET SOUND ENERGY INC   \n",
       "2   POINT (-122.4977 47.79802)                        PUGET SOUND ENERGY INC   \n",
       "3  POINT (-122.89165 47.03954)                        PUGET SOUND ENERGY INC   \n",
       "4  POINT (-122.68993 46.88897)                        PUGET SOUND ENERGY INC   \n",
       "5   POINT (-122.1389 47.87115)                        PUGET SOUND ENERGY INC   \n",
       "6  POINT (-122.70348 47.52028)                        PUGET SOUND ENERGY INC   \n",
       "7  POINT (-122.37265 48.24159)                        PUGET SOUND ENERGY INC   \n",
       "8  POINT (-122.30866 47.57874)  CITY OF SEATTLE - (WA)|CITY OF TACOMA - (WA)   \n",
       "9  POINT (-122.92333 47.03779)                        PUGET SOUND ENERGY INC   \n",
       "\n",
       "   2020 Census Tract  \n",
       "0       5.307700e+10  \n",
       "1       5.303509e+10  \n",
       "2       5.303509e+10  \n",
       "3       5.306701e+10  \n",
       "4       5.306701e+10  \n",
       "5       5.306104e+10  \n",
       "6       5.303509e+10  \n",
       "7       5.306194e+10  \n",
       "8       5.303301e+10  \n",
       "9       5.306701e+10  "
      ]
     },
     "execution_count": 60,
     "metadata": {},
     "output_type": "execute_result"
    }
   ],
   "source": [
    "df[0:10]"
   ]
  },
  {
   "cell_type": "markdown",
   "id": "ea966c70-ba9d-4949-873b-7f628216e522",
   "metadata": {},
   "source": [
    " How can VINs be anonymized while maintaining uniqueness?"
   ]
  },
  {
   "cell_type": "code",
   "execution_count": 61,
   "id": "0dca8be1-8794-491b-96f6-f9635aecfaae",
   "metadata": {},
   "outputs": [],
   "source": [
    "df['VIN_anon'] = df['VIN (1-10)'].astype(str).apply(\n",
    "    lambda x: hashlib.sha256(x.encode()).hexdigest()[:10]\n",
    ")"
   ]
  },
  {
   "cell_type": "code",
   "execution_count": 62,
   "id": "328093a4-468c-4050-a9a6-1758e2bfa2f2",
   "metadata": {},
   "outputs": [
    {
     "data": {
      "text/plain": [
       "0         bf01895762\n",
       "1         a720d32609\n",
       "2         ef506f78a5\n",
       "3         fb3f4d8c86\n",
       "4         5fb1eb0d5a\n",
       "             ...    \n",
       "261693    a1f2354106\n",
       "261694    35dc54b9e5\n",
       "261695    85c5705d12\n",
       "261696    0187e9334f\n",
       "261697    3719e2187a\n",
       "Name: VIN_anon, Length: 261698, dtype: object"
      ]
     },
     "execution_count": 62,
     "metadata": {},
     "output_type": "execute_result"
    }
   ],
   "source": [
    "df['VIN_anon']"
   ]
  },
  {
   "cell_type": "markdown",
   "id": "51f552cc-ff02-4eed-b195-e9fb46f2afcd",
   "metadata": {},
   "source": [
    "How can Vehicle Location (GPS coordinates) be cleaned or converted for better readability ?"
   ]
  },
  {
   "cell_type": "code",
   "execution_count": 63,
   "id": "a2bfe2fc-e79b-4ab3-8ae5-bb58b80871e6",
   "metadata": {},
   "outputs": [
    {
     "data": {
      "text/plain": [
       "0         POINT (-120.51904 46.59783)\n",
       "1         POINT (-122.63847 47.54103)\n",
       "2          POINT (-122.4977 47.79802)\n",
       "3         POINT (-122.89165 47.03954)\n",
       "4         POINT (-122.68993 46.88897)\n",
       "                     ...             \n",
       "261693    POINT (-122.64443 45.67871)\n",
       "261694     POINT (-122.1389 47.87115)\n",
       "261695    POINT (-122.30866 47.57874)\n",
       "261696    POINT (-122.20784 47.46004)\n",
       "261697    POINT (-122.20563 47.76144)\n",
       "Name: Vehicle Location, Length: 261698, dtype: object"
      ]
     },
     "execution_count": 63,
     "metadata": {},
     "output_type": "execute_result"
    }
   ],
   "source": [
    "df['Vehicle Location']"
   ]
  },
  {
   "cell_type": "code",
   "execution_count": 64,
   "id": "248140bd-868d-4387-b7d0-f9418d2c164e",
   "metadata": {},
   "outputs": [],
   "source": [
    "df[['Longitude', 'Latitude']] = df['Vehicle Location'] \\\n",
    "    .str.extract(r'POINT \\((-?\\d+\\.\\d+) (-?\\d+\\.\\d+)\\)').astype(float)"
   ]
  },
  {
   "cell_type": "code",
   "execution_count": null,
   "id": "ac9d35a3-a60b-4365-b1b1-32b02b61ba85",
   "metadata": {},
   "outputs": [],
   "source": []
  },
  {
   "cell_type": "code",
   "execution_count": 65,
   "id": "2bc0dbe3-93b0-4f7a-9654-fea5fb11f584",
   "metadata": {},
   "outputs": [],
   "source": [
    "df['Longitude'] = df['Longitude'].round(5)"
   ]
  },
  {
   "cell_type": "code",
   "execution_count": 66,
   "id": "236827db-dfd3-4295-92cf-869fa7d3f050",
   "metadata": {},
   "outputs": [],
   "source": [
    "df['Latitude'] = df['Latitude'].round(5)"
   ]
  },
  {
   "cell_type": "code",
   "execution_count": 67,
   "id": "49a4c9dc-0f4d-4d69-8719-0d4e2992f71c",
   "metadata": {},
   "outputs": [],
   "source": [
    "df['GoogleMaps'] = df.apply(\n",
    "    lambda row: f\"https://www.google.com/maps?q={row['Latitude']},{row['Longitude']}\",\n",
    "    axis=1\n",
    ")"
   ]
  },
  {
   "cell_type": "markdown",
   "id": "c69a7ca1-9378-4e48-b86e-61989c1a4514",
   "metadata": {},
   "source": [
    "# 2. Data Exploration Questions"
   ]
  },
  {
   "cell_type": "markdown",
   "id": "62ec181a-bc4a-4d1c-8852-c486df1eb343",
   "metadata": {},
   "source": [
    "What are the top 5 most common EV makes and models in the dataset?"
   ]
  },
  {
   "cell_type": "code",
   "execution_count": 68,
   "id": "400c2a2e-76e2-4fc7-a6e5-684d508f42a5",
   "metadata": {},
   "outputs": [],
   "source": [
    "df[\"Electric Range\"] = pd.to_numeric(df[\"Electric Range\"], errors=\"coerce\")"
   ]
  },
  {
   "cell_type": "code",
   "execution_count": 69,
   "id": "bed4e2ad-da17-4761-91f6-e1f922f2411b",
   "metadata": {},
   "outputs": [],
   "source": [
    "df[\"Base MSRP\"] = pd.to_numeric(df[\"Base MSRP\"], errors=\"coerce\")"
   ]
  },
  {
   "cell_type": "code",
   "execution_count": 70,
   "id": "86052e49-2110-46f3-bfd1-170aeea68f69",
   "metadata": {},
   "outputs": [],
   "source": [
    "df[\"Model Year\"] = pd.to_numeric(df[\"Model Year\"], errors=\"coerce\")"
   ]
  },
  {
   "cell_type": "code",
   "execution_count": 71,
   "id": "f5e53fd8-5431-4ba0-ad94-882d2739e6d5",
   "metadata": {},
   "outputs": [],
   "source": [
    "top_ev_models = (\n",
    "    df.groupby([\"Make\", \"Model\"])\n",
    "    .size()\n",
    "    .reset_index(name=\"Count\")\n",
    "    .sort_values(\"Count\", ascending=False)\n",
    "    .head(5)\n",
    ")"
   ]
  },
  {
   "cell_type": "code",
   "execution_count": 72,
   "id": "6ea5460b-2f84-48ee-9d99-da8b7c1a3aed",
   "metadata": {},
   "outputs": [
    {
     "data": {
      "text/html": [
       "<div>\n",
       "<style scoped>\n",
       "    .dataframe tbody tr th:only-of-type {\n",
       "        vertical-align: middle;\n",
       "    }\n",
       "\n",
       "    .dataframe tbody tr th {\n",
       "        vertical-align: top;\n",
       "    }\n",
       "\n",
       "    .dataframe thead th {\n",
       "        text-align: right;\n",
       "    }\n",
       "</style>\n",
       "<table border=\"1\" class=\"dataframe\">\n",
       "  <thead>\n",
       "    <tr style=\"text-align: right;\">\n",
       "      <th></th>\n",
       "      <th>Make</th>\n",
       "      <th>Model</th>\n",
       "      <th>Count</th>\n",
       "    </tr>\n",
       "  </thead>\n",
       "  <tbody>\n",
       "    <tr>\n",
       "      <th>157</th>\n",
       "      <td>TESLA</td>\n",
       "      <td>MODEL Y</td>\n",
       "      <td>54720</td>\n",
       "    </tr>\n",
       "    <tr>\n",
       "      <th>154</th>\n",
       "      <td>TESLA</td>\n",
       "      <td>MODEL 3</td>\n",
       "      <td>37774</td>\n",
       "    </tr>\n",
       "    <tr>\n",
       "      <th>134</th>\n",
       "      <td>NISSAN</td>\n",
       "      <td>LEAF</td>\n",
       "      <td>13852</td>\n",
       "    </tr>\n",
       "    <tr>\n",
       "      <th>155</th>\n",
       "      <td>TESLA</td>\n",
       "      <td>MODEL S</td>\n",
       "      <td>7945</td>\n",
       "    </tr>\n",
       "    <tr>\n",
       "      <th>48</th>\n",
       "      <td>CHEVROLET</td>\n",
       "      <td>BOLT EV</td>\n",
       "      <td>7873</td>\n",
       "    </tr>\n",
       "  </tbody>\n",
       "</table>\n",
       "</div>"
      ],
      "text/plain": [
       "          Make    Model  Count\n",
       "157      TESLA  MODEL Y  54720\n",
       "154      TESLA  MODEL 3  37774\n",
       "134     NISSAN     LEAF  13852\n",
       "155      TESLA  MODEL S   7945\n",
       "48   CHEVROLET  BOLT EV   7873"
      ]
     },
     "execution_count": 72,
     "metadata": {},
     "output_type": "execute_result"
    }
   ],
   "source": [
    "top_ev_models"
   ]
  },
  {
   "cell_type": "markdown",
   "id": "b875b6c1-f318-4785-b6d3-2905c0bf197a",
   "metadata": {},
   "source": [
    "What is the distribution of EVs by county? Which county has the most registrations ?"
   ]
  },
  {
   "cell_type": "code",
   "execution_count": 73,
   "id": "f0365878-d380-43ea-89a2-5b1dd825df75",
   "metadata": {},
   "outputs": [],
   "source": [
    "county_distribution = df[\"County\"].value_counts().reset_index()"
   ]
  },
  {
   "cell_type": "code",
   "execution_count": 74,
   "id": "78eb667f-f67b-4642-814b-9744a36a42e3",
   "metadata": {},
   "outputs": [],
   "source": [
    "county_distribution.columns = [\"County\", \"Count\"]"
   ]
  },
  {
   "cell_type": "code",
   "execution_count": 75,
   "id": "2854c6d5-a17b-4a64-89f1-375c6d74a570",
   "metadata": {},
   "outputs": [
    {
     "data": {
      "text/html": [
       "<div>\n",
       "<style scoped>\n",
       "    .dataframe tbody tr th:only-of-type {\n",
       "        vertical-align: middle;\n",
       "    }\n",
       "\n",
       "    .dataframe tbody tr th {\n",
       "        vertical-align: top;\n",
       "    }\n",
       "\n",
       "    .dataframe thead th {\n",
       "        text-align: right;\n",
       "    }\n",
       "</style>\n",
       "<table border=\"1\" class=\"dataframe\">\n",
       "  <thead>\n",
       "    <tr style=\"text-align: right;\">\n",
       "      <th></th>\n",
       "      <th>County</th>\n",
       "      <th>Count</th>\n",
       "    </tr>\n",
       "  </thead>\n",
       "  <tbody>\n",
       "    <tr>\n",
       "      <th>0</th>\n",
       "      <td>King</td>\n",
       "      <td>130129</td>\n",
       "    </tr>\n",
       "    <tr>\n",
       "      <th>1</th>\n",
       "      <td>Snohomish</td>\n",
       "      <td>32335</td>\n",
       "    </tr>\n",
       "    <tr>\n",
       "      <th>2</th>\n",
       "      <td>Pierce</td>\n",
       "      <td>21624</td>\n",
       "    </tr>\n",
       "    <tr>\n",
       "      <th>3</th>\n",
       "      <td>Clark</td>\n",
       "      <td>15925</td>\n",
       "    </tr>\n",
       "    <tr>\n",
       "      <th>4</th>\n",
       "      <td>Thurston</td>\n",
       "      <td>9506</td>\n",
       "    </tr>\n",
       "    <tr>\n",
       "      <th>...</th>\n",
       "      <td>...</td>\n",
       "      <td>...</td>\n",
       "    </tr>\n",
       "    <tr>\n",
       "      <th>231</th>\n",
       "      <td>Platte</td>\n",
       "      <td>1</td>\n",
       "    </tr>\n",
       "    <tr>\n",
       "      <th>232</th>\n",
       "      <td>Manatee</td>\n",
       "      <td>1</td>\n",
       "    </tr>\n",
       "    <tr>\n",
       "      <th>233</th>\n",
       "      <td>Escambia</td>\n",
       "      <td>1</td>\n",
       "    </tr>\n",
       "    <tr>\n",
       "      <th>234</th>\n",
       "      <td>Utah</td>\n",
       "      <td>1</td>\n",
       "    </tr>\n",
       "    <tr>\n",
       "      <th>235</th>\n",
       "      <td>Denton</td>\n",
       "      <td>1</td>\n",
       "    </tr>\n",
       "  </tbody>\n",
       "</table>\n",
       "<p>236 rows × 2 columns</p>\n",
       "</div>"
      ],
      "text/plain": [
       "        County   Count\n",
       "0         King  130129\n",
       "1    Snohomish   32335\n",
       "2       Pierce   21624\n",
       "3        Clark   15925\n",
       "4     Thurston    9506\n",
       "..         ...     ...\n",
       "231     Platte       1\n",
       "232    Manatee       1\n",
       "233   Escambia       1\n",
       "234       Utah       1\n",
       "235     Denton       1\n",
       "\n",
       "[236 rows x 2 columns]"
      ]
     },
     "execution_count": 75,
     "metadata": {},
     "output_type": "execute_result"
    }
   ],
   "source": [
    "county_distribution"
   ]
  },
  {
   "cell_type": "code",
   "execution_count": 76,
   "id": "df6462cc-00d1-46c3-9e25-e2a1acc8e272",
   "metadata": {},
   "outputs": [],
   "source": [
    "top_county = county_distribution.iloc[0]"
   ]
  },
  {
   "cell_type": "code",
   "execution_count": 77,
   "id": "ffe6d933-fddd-4000-8ac9-9b8294f8a9e5",
   "metadata": {},
   "outputs": [
    {
     "data": {
      "text/plain": [
       "County      King\n",
       "Count     130129\n",
       "Name: 0, dtype: object"
      ]
     },
     "execution_count": 77,
     "metadata": {},
     "output_type": "execute_result"
    }
   ],
   "source": [
    "top_county"
   ]
  },
  {
   "cell_type": "markdown",
   "id": "497a634c-8826-4cf2-82b1-674a100948e2",
   "metadata": {},
   "source": [
    "How has EV adoption changed over different model years?"
   ]
  },
  {
   "cell_type": "code",
   "execution_count": 78,
   "id": "7b954818-1b0b-4832-bdfb-05047ee3036e",
   "metadata": {},
   "outputs": [],
   "source": [
    "ev_by_year = (\n",
    "    df[\"Model Year\"]\n",
    "    .value_counts()\n",
    "    .sort_index()\n",
    "    .reset_index()\n",
    "    .rename(columns={\"index\": \"Model Year\", \"Model Year\": \"Count\"})\n",
    ")"
   ]
  },
  {
   "cell_type": "code",
   "execution_count": 79,
   "id": "ac3bfcd9-67ad-4e84-b4d3-295d73846ad3",
   "metadata": {},
   "outputs": [
    {
     "data": {
      "text/html": [
       "<div>\n",
       "<style scoped>\n",
       "    .dataframe tbody tr th:only-of-type {\n",
       "        vertical-align: middle;\n",
       "    }\n",
       "\n",
       "    .dataframe tbody tr th {\n",
       "        vertical-align: top;\n",
       "    }\n",
       "\n",
       "    .dataframe thead th {\n",
       "        text-align: right;\n",
       "    }\n",
       "</style>\n",
       "<table border=\"1\" class=\"dataframe\">\n",
       "  <thead>\n",
       "    <tr style=\"text-align: right;\">\n",
       "      <th></th>\n",
       "      <th>Count</th>\n",
       "      <th>count</th>\n",
       "    </tr>\n",
       "  </thead>\n",
       "  <tbody>\n",
       "    <tr>\n",
       "      <th>0</th>\n",
       "      <td>2000</td>\n",
       "      <td>8</td>\n",
       "    </tr>\n",
       "    <tr>\n",
       "      <th>1</th>\n",
       "      <td>2002</td>\n",
       "      <td>1</td>\n",
       "    </tr>\n",
       "    <tr>\n",
       "      <th>2</th>\n",
       "      <td>2003</td>\n",
       "      <td>1</td>\n",
       "    </tr>\n",
       "    <tr>\n",
       "      <th>3</th>\n",
       "      <td>2008</td>\n",
       "      <td>20</td>\n",
       "    </tr>\n",
       "    <tr>\n",
       "      <th>4</th>\n",
       "      <td>2010</td>\n",
       "      <td>22</td>\n",
       "    </tr>\n",
       "    <tr>\n",
       "      <th>5</th>\n",
       "      <td>2011</td>\n",
       "      <td>631</td>\n",
       "    </tr>\n",
       "    <tr>\n",
       "      <th>6</th>\n",
       "      <td>2012</td>\n",
       "      <td>1440</td>\n",
       "    </tr>\n",
       "    <tr>\n",
       "      <th>7</th>\n",
       "      <td>2013</td>\n",
       "      <td>4081</td>\n",
       "    </tr>\n",
       "    <tr>\n",
       "      <th>8</th>\n",
       "      <td>2014</td>\n",
       "      <td>3327</td>\n",
       "    </tr>\n",
       "    <tr>\n",
       "      <th>9</th>\n",
       "      <td>2015</td>\n",
       "      <td>4574</td>\n",
       "    </tr>\n",
       "    <tr>\n",
       "      <th>10</th>\n",
       "      <td>2016</td>\n",
       "      <td>5253</td>\n",
       "    </tr>\n",
       "    <tr>\n",
       "      <th>11</th>\n",
       "      <td>2017</td>\n",
       "      <td>8767</td>\n",
       "    </tr>\n",
       "    <tr>\n",
       "      <th>12</th>\n",
       "      <td>2018</td>\n",
       "      <td>14524</td>\n",
       "    </tr>\n",
       "    <tr>\n",
       "      <th>13</th>\n",
       "      <td>2019</td>\n",
       "      <td>11043</td>\n",
       "    </tr>\n",
       "    <tr>\n",
       "      <th>14</th>\n",
       "      <td>2020</td>\n",
       "      <td>12395</td>\n",
       "    </tr>\n",
       "    <tr>\n",
       "      <th>15</th>\n",
       "      <td>2021</td>\n",
       "      <td>20937</td>\n",
       "    </tr>\n",
       "    <tr>\n",
       "      <th>16</th>\n",
       "      <td>2022</td>\n",
       "      <td>29647</td>\n",
       "    </tr>\n",
       "    <tr>\n",
       "      <th>17</th>\n",
       "      <td>2023</td>\n",
       "      <td>60215</td>\n",
       "    </tr>\n",
       "    <tr>\n",
       "      <th>18</th>\n",
       "      <td>2024</td>\n",
       "      <td>49869</td>\n",
       "    </tr>\n",
       "    <tr>\n",
       "      <th>19</th>\n",
       "      <td>2025</td>\n",
       "      <td>29495</td>\n",
       "    </tr>\n",
       "    <tr>\n",
       "      <th>20</th>\n",
       "      <td>2026</td>\n",
       "      <td>5448</td>\n",
       "    </tr>\n",
       "  </tbody>\n",
       "</table>\n",
       "</div>"
      ],
      "text/plain": [
       "    Count  count\n",
       "0    2000      8\n",
       "1    2002      1\n",
       "2    2003      1\n",
       "3    2008     20\n",
       "4    2010     22\n",
       "5    2011    631\n",
       "6    2012   1440\n",
       "7    2013   4081\n",
       "8    2014   3327\n",
       "9    2015   4574\n",
       "10   2016   5253\n",
       "11   2017   8767\n",
       "12   2018  14524\n",
       "13   2019  11043\n",
       "14   2020  12395\n",
       "15   2021  20937\n",
       "16   2022  29647\n",
       "17   2023  60215\n",
       "18   2024  49869\n",
       "19   2025  29495\n",
       "20   2026   5448"
      ]
     },
     "execution_count": 79,
     "metadata": {},
     "output_type": "execute_result"
    }
   ],
   "source": [
    "ev_by_year"
   ]
  },
  {
   "cell_type": "markdown",
   "id": "6cf46a40-3819-420b-b83d-8a46d7aad5f9",
   "metadata": {},
   "source": [
    "What is the average electric range of EVs in the dataset?"
   ]
  },
  {
   "cell_type": "code",
   "execution_count": 80,
   "id": "18938260-a4d7-4d6c-bd6b-0133bdd6db89",
   "metadata": {},
   "outputs": [],
   "source": [
    "avg_range = df[\"Electric Range\"].replace(0, pd.NA).mean()"
   ]
  },
  {
   "cell_type": "code",
   "execution_count": 81,
   "id": "ac6f1184-6afc-4c07-9195-116d1c4fd9ad",
   "metadata": {},
   "outputs": [
    {
     "data": {
      "text/plain": [
       "np.float64(75.1987940297595)"
      ]
     },
     "execution_count": 81,
     "metadata": {},
     "output_type": "execute_result"
    }
   ],
   "source": [
    "avg_range"
   ]
  },
  {
   "cell_type": "markdown",
   "id": "14922127-73be-43ff-83df-4702c9e91e2f",
   "metadata": {},
   "source": [
    " What percentage of EVs are eligible for Clean Alternative Fuel Vehicle (CAFV) incentives?"
   ]
  },
  {
   "cell_type": "code",
   "execution_count": 82,
   "id": "3366e0f7-0ab3-429f-9eec-b1e2c44bc8f2",
   "metadata": {},
   "outputs": [],
   "source": [
    "cafv_col = \"Clean Alternative Fuel Vehicle (CAFV) Eligibility\"\n",
    "eligible_pct = (\n",
    "    df[cafv_col].astype(str).str.contains(\"Eligible\", case=False, na=False).mean() * 100\n",
    ")"
   ]
  },
  {
   "cell_type": "code",
   "execution_count": 83,
   "id": "d48d296f-3ba5-4932-b93b-2c318f460352",
   "metadata": {},
   "outputs": [
    {
     "data": {
      "text/plain": [
       "np.float64(38.52150188385085)"
      ]
     },
     "execution_count": 83,
     "metadata": {},
     "output_type": "execute_result"
    }
   ],
   "source": [
    "eligible_pct"
   ]
  },
  {
   "cell_type": "markdown",
   "id": "edbbbf44-c745-4f13-a1e1-513f678c544c",
   "metadata": {},
   "source": [
    "How does the electric range vary across different makes and models?"
   ]
  },
  {
   "cell_type": "code",
   "execution_count": 84,
   "id": "6f6448d1-90eb-468a-82b5-b4111938bae9",
   "metadata": {},
   "outputs": [],
   "source": [
    "range_by_model = (\n",
    "    df.groupby([\"Make\", \"Model\"])[\"Electric Range\"]\n",
    "    .mean()\n",
    "    .reset_index()\n",
    "    .sort_values(\"Electric Range\", ascending=False)\n",
    ")"
   ]
  },
  {
   "cell_type": "code",
   "execution_count": 85,
   "id": "ee5e64f4-0bae-4b47-812d-f78107be9ea8",
   "metadata": {},
   "outputs": [
    {
     "data": {
      "text/html": [
       "<div>\n",
       "<style scoped>\n",
       "    .dataframe tbody tr th:only-of-type {\n",
       "        vertical-align: middle;\n",
       "    }\n",
       "\n",
       "    .dataframe tbody tr th {\n",
       "        vertical-align: top;\n",
       "    }\n",
       "\n",
       "    .dataframe thead th {\n",
       "        text-align: right;\n",
       "    }\n",
       "</style>\n",
       "<table border=\"1\" class=\"dataframe\">\n",
       "  <thead>\n",
       "    <tr style=\"text-align: right;\">\n",
       "      <th></th>\n",
       "      <th>Make</th>\n",
       "      <th>Model</th>\n",
       "      <th>Electric Range</th>\n",
       "    </tr>\n",
       "  </thead>\n",
       "  <tbody>\n",
       "    <tr>\n",
       "      <th>158</th>\n",
       "      <td>TESLA</td>\n",
       "      <td>ROADSTER</td>\n",
       "      <td>231.104167</td>\n",
       "    </tr>\n",
       "    <tr>\n",
       "      <th>87</th>\n",
       "      <td>JAGUAR</td>\n",
       "      <td>I-PACE</td>\n",
       "      <td>193.211268</td>\n",
       "    </tr>\n",
       "    <tr>\n",
       "      <th>48</th>\n",
       "      <td>CHEVROLET</td>\n",
       "      <td>BOLT EV</td>\n",
       "      <td>184.991490</td>\n",
       "    </tr>\n",
       "    <tr>\n",
       "      <th>155</th>\n",
       "      <td>TESLA</td>\n",
       "      <td>MODEL S</td>\n",
       "      <td>180.338452</td>\n",
       "    </tr>\n",
       "    <tr>\n",
       "      <th>6</th>\n",
       "      <td>AUDI</td>\n",
       "      <td>E-TRON</td>\n",
       "      <td>148.849956</td>\n",
       "    </tr>\n",
       "    <tr>\n",
       "      <th>...</th>\n",
       "      <td>...</td>\n",
       "      <td>...</td>\n",
       "      <td>...</td>\n",
       "    </tr>\n",
       "    <tr>\n",
       "      <th>137</th>\n",
       "      <td>PORSCHE</td>\n",
       "      <td>918</td>\n",
       "      <td>12.000000</td>\n",
       "    </tr>\n",
       "    <tr>\n",
       "      <th>115</th>\n",
       "      <td>MERCEDES-BENZ</td>\n",
       "      <td>C-CLASS</td>\n",
       "      <td>7.200000</td>\n",
       "    </tr>\n",
       "    <tr>\n",
       "      <th>162</th>\n",
       "      <td>TOYOTA</td>\n",
       "      <td>PRIUS</td>\n",
       "      <td>6.000000</td>\n",
       "    </tr>\n",
       "    <tr>\n",
       "      <th>113</th>\n",
       "      <td>MERCEDES-BENZ</td>\n",
       "      <td>AMG GT</td>\n",
       "      <td>1.000000</td>\n",
       "    </tr>\n",
       "    <tr>\n",
       "      <th>127</th>\n",
       "      <td>MERCEDES-BENZ</td>\n",
       "      <td>SL-CLASS</td>\n",
       "      <td>1.000000</td>\n",
       "    </tr>\n",
       "  </tbody>\n",
       "</table>\n",
       "<p>181 rows × 3 columns</p>\n",
       "</div>"
      ],
      "text/plain": [
       "              Make     Model  Electric Range\n",
       "158          TESLA  ROADSTER      231.104167\n",
       "87          JAGUAR    I-PACE      193.211268\n",
       "48       CHEVROLET   BOLT EV      184.991490\n",
       "155          TESLA   MODEL S      180.338452\n",
       "6             AUDI    E-TRON      148.849956\n",
       "..             ...       ...             ...\n",
       "137        PORSCHE       918       12.000000\n",
       "115  MERCEDES-BENZ   C-CLASS        7.200000\n",
       "162         TOYOTA     PRIUS        6.000000\n",
       "113  MERCEDES-BENZ    AMG GT        1.000000\n",
       "127  MERCEDES-BENZ  SL-CLASS        1.000000\n",
       "\n",
       "[181 rows x 3 columns]"
      ]
     },
     "execution_count": 85,
     "metadata": {},
     "output_type": "execute_result"
    }
   ],
   "source": [
    "range_by_model"
   ]
  },
  {
   "cell_type": "markdown",
   "id": "90619d6b-fb00-4ac9-aa7c-7f070d20dba6",
   "metadata": {},
   "source": [
    "What is the average Base MSRP for each EV model? "
   ]
  },
  {
   "cell_type": "code",
   "execution_count": 86,
   "id": "876fe68e-624b-4d26-b5f8-6892ecbb759b",
   "metadata": {},
   "outputs": [],
   "source": [
    "avg_msrp_by_model = (\n",
    "    df.groupby([\"Make\", \"Model\"])[\"Base MSRP\"]\n",
    "    .mean()\n",
    "    .reset_index()\n",
    "    .sort_values(\"Base MSRP\", ascending=False)\n",
    ")"
   ]
  },
  {
   "cell_type": "code",
   "execution_count": null,
   "id": "413a8077-8a4a-46ed-b676-1409cb1cd3e0",
   "metadata": {},
   "outputs": [],
   "source": []
  },
  {
   "cell_type": "code",
   "execution_count": 87,
   "id": "4b3d103c-c09a-4ee0-8027-bb0345f3fd26",
   "metadata": {},
   "outputs": [
    {
     "data": {
      "text/html": [
       "<div>\n",
       "<style scoped>\n",
       "    .dataframe tbody tr th:only-of-type {\n",
       "        vertical-align: middle;\n",
       "    }\n",
       "\n",
       "    .dataframe tbody tr th {\n",
       "        vertical-align: top;\n",
       "    }\n",
       "\n",
       "    .dataframe thead th {\n",
       "        text-align: right;\n",
       "    }\n",
       "</style>\n",
       "<table border=\"1\" class=\"dataframe\">\n",
       "  <thead>\n",
       "    <tr style=\"text-align: right;\">\n",
       "      <th></th>\n",
       "      <th>Make</th>\n",
       "      <th>Model</th>\n",
       "      <th>Base MSRP</th>\n",
       "    </tr>\n",
       "  </thead>\n",
       "  <tbody>\n",
       "    <tr>\n",
       "      <th>137</th>\n",
       "      <td>PORSCHE</td>\n",
       "      <td>918</td>\n",
       "      <td>845000.000000</td>\n",
       "    </tr>\n",
       "    <tr>\n",
       "      <th>158</th>\n",
       "      <td>TESLA</td>\n",
       "      <td>ROADSTER</td>\n",
       "      <td>104811.458333</td>\n",
       "    </tr>\n",
       "    <tr>\n",
       "      <th>59</th>\n",
       "      <td>FISKER</td>\n",
       "      <td>KARMA</td>\n",
       "      <td>102000.000000</td>\n",
       "    </tr>\n",
       "    <tr>\n",
       "      <th>26</th>\n",
       "      <td>BMW</td>\n",
       "      <td>740E</td>\n",
       "      <td>90287.037037</td>\n",
       "    </tr>\n",
       "    <tr>\n",
       "      <th>41</th>\n",
       "      <td>CADILLAC</td>\n",
       "      <td>CT6</td>\n",
       "      <td>75095.000000</td>\n",
       "    </tr>\n",
       "    <tr>\n",
       "      <th>...</th>\n",
       "      <td>...</td>\n",
       "      <td>...</td>\n",
       "      <td>...</td>\n",
       "    </tr>\n",
       "    <tr>\n",
       "      <th>23</th>\n",
       "      <td>BMW</td>\n",
       "      <td>330E</td>\n",
       "      <td>54637.898687</td>\n",
       "    </tr>\n",
       "    <tr>\n",
       "      <th>128</th>\n",
       "      <td>MINI</td>\n",
       "      <td>COUNTRYMAN</td>\n",
       "      <td>50153.148615</td>\n",
       "    </tr>\n",
       "    <tr>\n",
       "      <th>151</th>\n",
       "      <td>SUBARU</td>\n",
       "      <td>CROSSTREK</td>\n",
       "      <td>42413.510638</td>\n",
       "    </tr>\n",
       "    <tr>\n",
       "      <th>96</th>\n",
       "      <td>KIA</td>\n",
       "      <td>SOUL</td>\n",
       "      <td>33473.043478</td>\n",
       "    </tr>\n",
       "    <tr>\n",
       "      <th>180</th>\n",
       "      <td>WHEEGO ELECTRIC CARS</td>\n",
       "      <td>WHEEGO</td>\n",
       "      <td>32995.000000</td>\n",
       "    </tr>\n",
       "  </tbody>\n",
       "</table>\n",
       "<p>181 rows × 3 columns</p>\n",
       "</div>"
      ],
      "text/plain": [
       "                     Make       Model      Base MSRP\n",
       "137               PORSCHE         918  845000.000000\n",
       "158                 TESLA    ROADSTER  104811.458333\n",
       "59                 FISKER       KARMA  102000.000000\n",
       "26                    BMW        740E   90287.037037\n",
       "41               CADILLAC         CT6   75095.000000\n",
       "..                    ...         ...            ...\n",
       "23                    BMW        330E   54637.898687\n",
       "128                  MINI  COUNTRYMAN   50153.148615\n",
       "151                SUBARU   CROSSTREK   42413.510638\n",
       "96                    KIA        SOUL   33473.043478\n",
       "180  WHEEGO ELECTRIC CARS      WHEEGO   32995.000000\n",
       "\n",
       "[181 rows x 3 columns]"
      ]
     },
     "execution_count": 87,
     "metadata": {},
     "output_type": "execute_result"
    }
   ],
   "source": [
    "avg_msrp_by_model"
   ]
  },
  {
   "cell_type": "markdown",
   "id": "77c0e29d-60be-456c-9c58-7c227bbab5c3",
   "metadata": {},
   "source": [
    " Are there any regional trends in EV adoption (e.g., urban vs. rural areas) ?"
   ]
  },
  {
   "cell_type": "code",
   "execution_count": 88,
   "id": "9ba88c2a-2b26-4003-8ed6-970e2c813fbb",
   "metadata": {},
   "outputs": [],
   "source": [
    "city_counts = df[\"City\"].value_counts()"
   ]
  },
  {
   "cell_type": "code",
   "execution_count": 89,
   "id": "60f74a00-0107-4ee2-8053-781e800460d8",
   "metadata": {},
   "outputs": [],
   "source": [
    "urban_cities = city_counts[city_counts > 50].index"
   ]
  },
  {
   "cell_type": "code",
   "execution_count": 90,
   "id": "f6baa733-5bd3-49be-987f-32530fd44154",
   "metadata": {},
   "outputs": [],
   "source": [
    "df[\"RegionType\"] = df[\"City\"].apply(lambda x: \"Urban\" if x in urban_cities else \"Rural\")"
   ]
  },
  {
   "cell_type": "code",
   "execution_count": 91,
   "id": "c1531132-c1ff-4c01-836a-7282d3d5b811",
   "metadata": {},
   "outputs": [],
   "source": [
    "regional_trends = df[\"RegionType\"].value_counts(normalize=True) * 100"
   ]
  },
  {
   "cell_type": "code",
   "execution_count": 92,
   "id": "c0135082-31ad-4c9f-814b-e26be163cd71",
   "metadata": {},
   "outputs": [
    {
     "data": {
      "text/plain": [
       "RegionType\n",
       "Urban    98.397389\n",
       "Rural     1.602611\n",
       "Name: proportion, dtype: float64"
      ]
     },
     "execution_count": 92,
     "metadata": {},
     "output_type": "execute_result"
    }
   ],
   "source": [
    "regional_trends"
   ]
  },
  {
   "cell_type": "code",
   "execution_count": 93,
   "id": "3575e94e-3df6-4240-b318-a329bc6bbaf0",
   "metadata": {},
   "outputs": [
    {
     "name": "stdout",
     "output_type": "stream",
     "text": [
      "\n",
      "1. Top 5 EV Makes & Models:\n",
      "           Make    Model  Count\n",
      "157      TESLA  MODEL Y  54720\n",
      "154      TESLA  MODEL 3  37774\n",
      "134     NISSAN     LEAF  13852\n",
      "155      TESLA  MODEL S   7945\n",
      "48   CHEVROLET  BOLT EV   7873\n",
      "\n",
      "2. County with most registrations:\n",
      " County      King\n",
      "Count     130129\n",
      "Name: 0, dtype: object\n",
      "\n",
      "3. EV Adoption over Years:\n",
      "    Count  count\n",
      "0   2000      8\n",
      "1   2002      1\n",
      "2   2003      1\n",
      "3   2008     20\n",
      "4   2010     22\n",
      "5   2011    631\n",
      "6   2012   1440\n",
      "7   2013   4081\n",
      "8   2014   3327\n",
      "9   2015   4574\n",
      "\n",
      "4. Average Electric Range: 75.2\n",
      "\n",
      "5. % Eligible for CAFV Incentives: 38.52 %\n",
      "\n",
      "6. Sample - Electric Range by Model:\n",
      "           Make     Model  Electric Range\n",
      "158      TESLA  ROADSTER      231.104167\n",
      "87      JAGUAR    I-PACE      193.211268\n",
      "48   CHEVROLET   BOLT EV      184.991490\n",
      "155      TESLA   MODEL S      180.338452\n",
      "6         AUDI    E-TRON      148.849956\n",
      "\n",
      "7. Sample - Average Base MSRP by Model:\n",
      "          Make     Model      Base MSRP\n",
      "137   PORSCHE       918  845000.000000\n",
      "158     TESLA  ROADSTER  104811.458333\n",
      "59     FISKER     KARMA  102000.000000\n",
      "26        BMW      740E   90287.037037\n",
      "41   CADILLAC       CT6   75095.000000\n",
      "\n",
      "8. Regional Trends (Urban vs Rural %):\n",
      " RegionType\n",
      "Urban    98.397389\n",
      "Rural     1.602611\n",
      "Name: proportion, dtype: float64\n"
     ]
    }
   ],
   "source": [
    "print(\"\\n1. Top 5 EV Makes & Models:\\n\", top_ev_models)\n",
    "print(\"\\n2. County with most registrations:\\n\", top_county)\n",
    "print(\"\\n3. EV Adoption over Years:\\n\", ev_by_year.head(10))\n",
    "print(\"\\n4. Average Electric Range:\", round(avg_range, 2))\n",
    "print(\"\\n5. % Eligible for CAFV Incentives:\", round(eligible_pct, 2), \"%\")\n",
    "print(\"\\n6. Sample - Electric Range by Model:\\n\", range_by_model.head(5))\n",
    "print(\"\\n7. Sample - Average Base MSRP by Model:\\n\", avg_msrp_by_model.head(5))\n",
    "print(\"\\n8. Regional Trends (Urban vs Rural %):\\n\", regional_trends)"
   ]
  },
  {
   "cell_type": "markdown",
   "id": "c1228585-461c-4442-9813-203542544c0a",
   "metadata": {},
   "source": [
    "# 3. Data Visualization Questions"
   ]
  },
  {
   "cell_type": "markdown",
   "id": "864d4b32-071f-44bf-8a2a-a0c2fecedf45",
   "metadata": {},
   "source": [
    "Ceate a bar chart showing the top 5 EV makes and models by count."
   ]
  },
  {
   "cell_type": "code",
   "execution_count": 96,
   "id": "daacb8b6-6e18-4ec3-a100-c96ea00743a1",
   "metadata": {},
   "outputs": [],
   "source": [
    "import matplotlib.pyplot as plt\n",
    "import seaborn as sns"
   ]
  },
  {
   "cell_type": "code",
   "execution_count": 97,
   "id": "e5b15dc4-77c4-4082-91e2-e727d55dc17b",
   "metadata": {},
   "outputs": [],
   "source": [
    "df[\"Electric Range\"] = pd.to_numeric(df[\"Electric Range\"], errors=\"coerce\")\n",
    "df[\"Base MSRP\"] = pd.to_numeric(df[\"Base MSRP\"], errors=\"coerce\")\n",
    "df[\"Model Year\"] = pd.to_numeric(df[\"Model Year\"], errors=\"coerce\")"
   ]
  },
  {
   "cell_type": "code",
   "execution_count": null,
   "id": "167776fe-1db6-45d0-8783-f252ded821c6",
   "metadata": {},
   "outputs": [],
   "source": []
  },
  {
   "cell_type": "code",
   "execution_count": 98,
   "id": "cd449aad-1aba-440d-978f-b8f5f2ba0b51",
   "metadata": {},
   "outputs": [],
   "source": [
    "top_ev_models = (\n",
    "    df.groupby([\"Make\", \"Model\"])\n",
    "    .size()\n",
    "    .reset_index(name=\"Count\")\n",
    "    .sort_values(\"Count\", ascending=False)\n",
    "    .head(5)\n",
    ")"
   ]
  },
  {
   "cell_type": "code",
   "execution_count": 99,
   "id": "0766d6b5-93ad-430a-930e-e1ecd4b79a53",
   "metadata": {},
   "outputs": [
    {
     "data": {
      "image/png": "[encoded data removed]",
      "text/plain": [
       "<Figure size 1000x600 with 1 Axes>"
      ]
     },
     "metadata": {},
     "output_type": "display_data"
    }
   ],
   "source": [
    "plt.figure(figsize=(10, 6))\n",
    "sns.barplot(x=\"Count\", y=\"Model\", hue=\"Make\", data=top_ev_models, dodge=False)\n",
    "plt.title(\"Top 5 EV Makes & Models by Count\")\n",
    "plt.xlabel(\"Count\")\n",
    "plt.ylabel(\"Model\")\n",
    "plt.show()"
   ]
  },
  {
   "cell_type": "markdown",
   "id": "c8620470-d835-41b3-9c54-6348d01adca8",
   "metadata": {},
   "source": [
    "Use a heatmap or choropleth map to visualize EV distribution by county."
   ]
  },
  {
   "cell_type": "code",
   "execution_count": 100,
   "id": "3dc2f46c-a8d9-402c-b5cf-9b7a840d8244",
   "metadata": {},
   "outputs": [],
   "source": [
    "county_distribution = df[\"County\"].value_counts().reset_index()"
   ]
  },
  {
   "cell_type": "code",
   "execution_count": 101,
   "id": "dba96f48-9343-4bc8-89a8-c3d1da2fb8a9",
   "metadata": {},
   "outputs": [],
   "source": [
    "county_distribution.columns = [\"County\", \"Count\"]"
   ]
  },
  {
   "cell_type": "code",
   "execution_count": 102,
   "id": "4c6c3492-de72-45b5-8068-4f0cbd0fa744",
   "metadata": {},
   "outputs": [
    {
     "data": {
      "image/png": "[encoded data removed]",
      "text/plain": [
       "<Figure size 1200x600 with 1 Axes>"
      ]
     },
     "metadata": {},
     "output_type": "display_data"
    }
   ],
   "source": [
    "plt.figure(figsize=(12, 6))\n",
    "sns.barplot(x=\"Count\", y=\"County\", data=county_distribution.head(15))\n",
    "plt.title(\"EV Distribution by County (Top 15)\")\n",
    "plt.xlabel(\"Count\")\n",
    "plt.ylabel(\"County\")\n",
    "plt.show()"
   ]
  },
  {
   "cell_type": "markdown",
   "id": "4d212a7c-bc58-4cdd-93cc-16291d15b2e3",
   "metadata": {},
   "source": [
    "Create a line graph showing the trend of EV adoption by model year."
   ]
  },
  {
   "cell_type": "code",
   "execution_count": 103,
   "id": "75b1303e-53ed-42e0-ae04-da21934cb626",
   "metadata": {},
   "outputs": [],
   "source": [
    "ev_by_year = df[\"Model Year\"].value_counts().sort_index().reset_index()\n",
    "ev_by_year.columns = [\"Model Year\", \"Count\"]"
   ]
  },
  {
   "cell_type": "code",
   "execution_count": 104,
   "id": "64219467-b427-4847-bc3a-6138e2c3baf2",
   "metadata": {},
   "outputs": [
    {
     "data": {
      "image/png": "[encoded data removed]",
      "text/plain": [
       "<Figure size 1000x600 with 1 Axes>"
      ]
     },
     "metadata": {},
     "output_type": "display_data"
    }
   ],
   "source": [
    "plt.figure(figsize=(10, 6))\n",
    "sns.lineplot(x=\"Model Year\", y=\"Count\", data=ev_by_year, marker=\"o\")\n",
    "plt.title(\"EV Adoption Trend by Model Year\")\n",
    "plt.xlabel(\"Model Year\")\n",
    "plt.ylabel(\"Count of EVs\")\n",
    "plt.show()"
   ]
  },
  {
   "cell_type": "markdown",
   "id": "9feb3151-247e-4768-8b35-1359c58448e2",
   "metadata": {},
   "source": [
    "Generate a scatter plot comparing electric range vs. base MSRP to see pricing trends"
   ]
  },
  {
   "cell_type": "code",
   "execution_count": 110,
   "id": "2b2644e6-a196-416d-a6a0-b4fb910f03c3",
   "metadata": {},
   "outputs": [
    {
     "data": {
      "image/png": "[encoded data removed]",
      "text/plain": [
       "<Figure size 1200x600 with 1 Axes>"
      ]
     },
     "metadata": {},
     "output_type": "display_data"
    }
   ],
   "source": [
    "plt.figure(figsize=(12, 6))\n",
    "sns.scatterplot(data=df, x=\"Base MSRP\", y=\"Electric Range\", hue=\"Make\", alpha=0.6)\n",
    "plt.title(\"Electric Range vs. Base MSRP (by Make)\")\n",
    "plt.xlabel(\"Base MSRP ($)\")\n",
    "plt.ylabel(\"Electric Range (miles)\")\n",
    "plt.legend(bbox_to_anchor=(1.05, 1), loc='upper left')\n",
    "plt.show()"
   ]
  },
  {
   "cell_type": "markdown",
   "id": "254fa2b0-8ab6-44b6-985f-0b8d170fa143",
   "metadata": {},
   "source": [
    "Plot a pie chart showing the proportion of CAFV-eligible vs. non-eligible EVs."
   ]
  },
  {
   "cell_type": "code",
   "execution_count": null,
   "id": "494d9a2f-35f2-4bcc-be8f-0273003e675c",
   "metadata": {},
   "outputs": [],
   "source": []
  },
  {
   "cell_type": "code",
   "execution_count": 106,
   "id": "400b3687-2579-41f0-8158-136231e50597",
   "metadata": {},
   "outputs": [],
   "source": [
    "cafv_col = \"Clean Alternative Fuel Vehicle (CAFV) Eligibility\"\n",
    "cafv_counts = df[cafv_col].fillna(\"Unknown\").value_counts()"
   ]
  },
  {
   "cell_type": "code",
   "execution_count": 107,
   "id": "ec62a59a-7efc-4b78-a059-6cb5aad40aa5",
   "metadata": {},
   "outputs": [
    {
     "data": {
      "image/png": "[encoded data removed]",
      "text/plain": [
       "<Figure size 600x600 with 1 Axes>"
      ]
     },
     "metadata": {},
     "output_type": "display_data"
    }
   ],
   "source": [
    "plt.figure(figsize=(6, 6))\n",
    "cafv_counts.plot.pie(autopct=\"%1.1f%%\", startangle=90)\n",
    "plt.title(\"CAFV Eligibility Distribution\")\n",
    "plt.ylabel(\"\")\n",
    "plt.show()"
   ]
  },
  {
   "cell_type": "code",
   "execution_count": null,
   "id": "39dc8f0d-90bb-485b-9f71-066de4f0cd9a",
   "metadata": {},
   "outputs": [],
   "source": []
  },
  {
   "cell_type": "code",
   "execution_count": 108,
   "id": "be30db5f-6ae3-4101-a2c2-3fc248b378db",
   "metadata": {},
   "outputs": [],
   "source": [
    "df[['Longitude', 'Latitude']] = df['Vehicle Location'] \\\n",
    "    .str.extract(r'POINT \\((-?\\d+\\.\\d+) (-?\\d+\\.\\d+)\\)').astype(float)"
   ]
  },
  {
   "cell_type": "markdown",
   "id": "697d3358-b8f7-4f69-a02e-7e3511f53779",
   "metadata": {},
   "source": [
    "Use a geospatial map to display EV registrations based on vehicle location"
   ]
  },
  {
   "cell_type": "code",
   "execution_count": 112,
   "id": "510ee3bd-9493-4f4b-80d7-e223f536d4fc",
   "metadata": {},
   "outputs": [
    {
     "name": "stdout",
     "output_type": "stream",
     "text": [
      "Collecting folium\n",
      "  Downloading folium-0.20.0-py2.py3-none-any.whl.metadata (4.2 kB)\n",
      "Collecting branca>=0.6.0 (from folium)\n",
      "  Downloading branca-0.8.1-py3-none-any.whl.metadata (1.5 kB)\n",
      "Requirement already satisfied: jinja2>=2.9 in c:\\python\\lib\\site-packages (from folium) (3.1.6)\n",
      "Requirement already satisfied: numpy in c:\\python\\lib\\site-packages (from folium) (2.1.3)\n",
      "Requirement already satisfied: requests in c:\\python\\lib\\site-packages (from folium) (2.32.3)\n",
      "Requirement already satisfied: xyzservices in c:\\python\\lib\\site-packages (from folium) (2022.9.0)\n",
      "Requirement already satisfied: MarkupSafe>=2.0 in c:\\python\\lib\\site-packages (from jinja2>=2.9->folium) (3.0.2)\n",
      "Requirement already satisfied: charset-normalizer<4,>=2 in c:\\python\\lib\\site-packages (from requests->folium) (3.3.2)\n",
      "Requirement already satisfied: idna<4,>=2.5 in c:\\python\\lib\\site-packages (from requests->folium) (3.7)\n",
      "Requirement already satisfied: urllib3<3,>=1.21.1 in c:\\python\\lib\\site-packages (from requests->folium) (2.3.0)\n",
      "Requirement already satisfied: certifi>=2017.4.17 in c:\\python\\lib\\site-packages (from requests->folium) (2025.8.3)\n",
      "Downloading folium-0.20.0-py2.py3-none-any.whl (113 kB)\n",
      "Downloading branca-0.8.1-py3-none-any.whl (26 kB)\n",
      "Installing collected packages: branca, folium\n",
      "\n",
      "   ---------------------------------------- 0/2 [branca]\n",
      "   -------------------- ------------------- 1/2 [folium]\n",
      "   -------------------- ------------------- 1/2 [folium]\n",
      "   -------------------- ------------------- 1/2 [folium]\n",
      "   -------------------- ------------------- 1/2 [folium]\n",
      "   -------------------- ------------------- 1/2 [folium]\n",
      "   -------------------- ------------------- 1/2 [folium]\n",
      "   -------------------- ------------------- 1/2 [folium]\n",
      "   -------------------- ------------------- 1/2 [folium]\n",
      "   -------------------- ------------------- 1/2 [folium]\n",
      "   -------------------- ------------------- 1/2 [folium]\n",
      "   -------------------- ------------------- 1/2 [folium]\n",
      "   -------------------- ------------------- 1/2 [folium]\n",
      "   -------------------- ------------------- 1/2 [folium]\n",
      "   -------------------- ------------------- 1/2 [folium]\n",
      "   -------------------- ------------------- 1/2 [folium]\n",
      "   ---------------------------------------- 2/2 [folium]\n",
      "\n",
      "Successfully installed branca-0.8.1 folium-0.20.0\n"
     ]
    }
   ],
   "source": [
    "!pip install folium"
   ]
  },
  {
   "cell_type": "code",
   "execution_count": 113,
   "id": "1d916a61-c8eb-4481-8f68-74a1583568af",
   "metadata": {},
   "outputs": [
    {
     "name": "stdout",
     "output_type": "stream",
     "text": [
      "Collecting geopandas\n",
      "  Downloading geopandas-1.1.1-py3-none-any.whl.metadata (2.3 kB)\n",
      "Requirement already satisfied: numpy>=1.24 in c:\\python\\lib\\site-packages (from geopandas) (2.1.3)\n",
      "Collecting pyogrio>=0.7.2 (from geopandas)\n",
      "  Downloading pyogrio-0.11.1-cp313-cp313-win_amd64.whl.metadata (5.4 kB)\n",
      "Requirement already satisfied: packaging in c:\\python\\lib\\site-packages (from geopandas) (24.2)\n",
      "Requirement already satisfied: pandas>=2.0.0 in c:\\python\\lib\\site-packages (from geopandas) (2.2.3)\n",
      "Collecting pyproj>=3.5.0 (from geopandas)\n",
      "  Downloading pyproj-3.7.2-cp313-cp313-win_amd64.whl.metadata (31 kB)\n",
      "Collecting shapely>=2.0.0 (from geopandas)\n",
      "  Downloading shapely-2.1.2-cp313-cp313-win_amd64.whl.metadata (7.1 kB)\n",
      "Requirement already satisfied: python-dateutil>=2.8.2 in c:\\python\\lib\\site-packages (from pandas>=2.0.0->geopandas) (2.9.0.post0)\n",
      "Requirement already satisfied: pytz>=2020.1 in c:\\python\\lib\\site-packages (from pandas>=2.0.0->geopandas) (2024.1)\n",
      "Requirement already satisfied: tzdata>=2022.7 in c:\\python\\lib\\site-packages (from pandas>=2.0.0->geopandas) (2025.2)\n",
      "Requirement already satisfied: certifi in c:\\python\\lib\\site-packages (from pyogrio>=0.7.2->geopandas) (2025.8.3)\n",
      "Requirement already satisfied: six>=1.5 in c:\\python\\lib\\site-packages (from python-dateutil>=2.8.2->pandas>=2.0.0->geopandas) (1.17.0)\n",
      "Downloading geopandas-1.1.1-py3-none-any.whl (338 kB)\n",
      "Downloading pyogrio-0.11.1-cp313-cp313-win_amd64.whl (19.2 MB)\n",
      "   ---------------------------------------- 0.0/19.2 MB ? eta -:--:--\n",
      "   - -------------------------------------- 0.5/19.2 MB 3.2 MB/s eta 0:00:06\n",
      "   -- ------------------------------------- 1.3/19.2 MB 3.2 MB/s eta 0:00:06\n",
      "   --- ------------------------------------ 1.8/19.2 MB 3.2 MB/s eta 0:00:06\n",
      "   ----- ---------------------------------- 2.6/19.2 MB 3.2 MB/s eta 0:00:06\n",
      "   ------ --------------------------------- 3.1/19.2 MB 3.2 MB/s eta 0:00:06\n",
      "   -------- ------------------------------- 3.9/19.2 MB 3.2 MB/s eta 0:00:05\n",
      "   --------- ------------------------------ 4.5/19.2 MB 3.2 MB/s eta 0:00:05\n",
      "   ---------- ----------------------------- 5.2/19.2 MB 3.2 MB/s eta 0:00:05\n",
      "   ------------ --------------------------- 5.8/19.2 MB 3.2 MB/s eta 0:00:05\n",
      "   ------------- -------------------------- 6.6/19.2 MB 3.2 MB/s eta 0:00:04\n",
      "   --------------- ------------------------ 7.3/19.2 MB 3.2 MB/s eta 0:00:04\n",
      "   ---------------- ----------------------- 7.9/19.2 MB 3.2 MB/s eta 0:00:04\n",
      "   ----------------- ---------------------- 8.4/19.2 MB 3.2 MB/s eta 0:00:04\n",
      "   ------------------- -------------------- 9.2/19.2 MB 3.2 MB/s eta 0:00:04\n",
      "   -------------------- ------------------- 10.0/19.2 MB 3.2 MB/s eta 0:00:03\n",
      "   --------------------- ------------------ 10.5/19.2 MB 3.2 MB/s eta 0:00:03\n",
      "   ----------------------- ---------------- 11.3/19.2 MB 3.2 MB/s eta 0:00:03\n",
      "   ------------------------- -------------- 12.1/19.2 MB 3.2 MB/s eta 0:00:03\n",
      "   -------------------------- ------------- 12.6/19.2 MB 3.2 MB/s eta 0:00:03\n",
      "   --------------------------- ------------ 13.4/19.2 MB 3.2 MB/s eta 0:00:02\n",
      "   ---------------------------- ----------- 13.9/19.2 MB 3.2 MB/s eta 0:00:02\n",
      "   ------------------------------ --------- 14.7/19.2 MB 3.2 MB/s eta 0:00:02\n",
      "   ------------------------------- -------- 15.2/19.2 MB 3.2 MB/s eta 0:00:02\n",
      "   --------------------------------- ------ 16.0/19.2 MB 3.2 MB/s eta 0:00:02\n",
      "   ---------------------------------- ----- 16.8/19.2 MB 3.2 MB/s eta 0:00:01\n",
      "   ------------------------------------ --- 17.3/19.2 MB 3.2 MB/s eta 0:00:01\n",
      "   ------------------------------------- -- 18.1/19.2 MB 3.2 MB/s eta 0:00:01\n",
      "   -------------------------------------- - 18.6/19.2 MB 3.2 MB/s eta 0:00:01\n",
      "   ---------------------------------------  19.1/19.2 MB 3.2 MB/s eta 0:00:01\n",
      "   ---------------------------------------- 19.2/19.2 MB 3.1 MB/s eta 0:00:00\n",
      "Downloading pyproj-3.7.2-cp313-cp313-win_amd64.whl (6.3 MB)\n",
      "   ---------------------------------------- 0.0/6.3 MB ? eta -:--:--\n",
      "   --- ------------------------------------ 0.5/6.3 MB 3.2 MB/s eta 0:00:02\n",
      "   -------- ------------------------------- 1.3/6.3 MB 3.1 MB/s eta 0:00:02\n",
      "   ----------- ---------------------------- 1.8/6.3 MB 3.2 MB/s eta 0:00:02\n",
      "   ---------------- ----------------------- 2.6/6.3 MB 3.2 MB/s eta 0:00:02\n",
      "   ------------------- -------------------- 3.1/6.3 MB 3.2 MB/s eta 0:00:01\n",
      "   ------------------------ --------------- 3.9/6.3 MB 3.2 MB/s eta 0:00:01\n",
      "   ---------------------------- ----------- 4.5/6.3 MB 3.2 MB/s eta 0:00:01\n",
      "   --------------------------------- ------ 5.2/6.3 MB 3.2 MB/s eta 0:00:01\n",
      "   ------------------------------------ --- 5.8/6.3 MB 3.2 MB/s eta 0:00:01\n",
      "   ---------------------------------------- 6.3/6.3 MB 3.1 MB/s eta 0:00:00\n",
      "Downloading shapely-2.1.2-cp313-cp313-win_amd64.whl (1.7 MB)\n",
      "   ---------------------------------------- 0.0/1.7 MB ? eta -:--:--\n",
      "   ------------ --------------------------- 0.5/1.7 MB 3.2 MB/s eta 0:00:01\n",
      "   ------------------------------ --------- 1.3/1.7 MB 3.2 MB/s eta 0:00:01\n",
      "   ---------------------------------------- 1.7/1.7 MB 2.9 MB/s eta 0:00:00\n",
      "Installing collected packages: shapely, pyproj, pyogrio, geopandas\n",
      "\n",
      "   ---------------------------------------- 0/4 [shapely]\n",
      "   ---------------------------------------- 0/4 [shapely]\n",
      "   ---------------------------------------- 0/4 [shapely]\n",
      "   ---------------------------------------- 0/4 [shapely]\n",
      "   ---------------------------------------- 0/4 [shapely]\n",
      "   ---------------------------------------- 0/4 [shapely]\n",
      "   ---------------------------------------- 0/4 [shapely]\n",
      "   ---------------------------------------- 0/4 [shapely]\n",
      "   ---------------------------------------- 0/4 [shapely]\n",
      "   ---------------------------------------- 0/4 [shapely]\n",
      "   ---------------------------------------- 0/4 [shapely]\n",
      "   ---------------------------------------- 0/4 [shapely]\n",
      "   ---------------------------------------- 0/4 [shapely]\n",
      "   ---------------------------------------- 0/4 [shapely]\n",
      "   ---------------------------------------- 0/4 [shapely]\n",
      "   ---------------------------------------- 0/4 [shapely]\n",
      "   ---------------------------------------- 0/4 [shapely]\n",
      "   ---------------------------------------- 0/4 [shapely]\n",
      "   ---------------------------------------- 0/4 [shapely]\n",
      "   ---------------------------------------- 0/4 [shapely]\n",
      "   ---------------------------------------- 0/4 [shapely]\n",
      "   ---------------------------------------- 0/4 [shapely]\n",
      "   ---------------------------------------- 0/4 [shapely]\n",
      "   ---------------------------------------- 0/4 [shapely]\n",
      "   ---------------------------------------- 0/4 [shapely]\n",
      "   ---------------------------------------- 0/4 [shapely]\n",
      "   ---------------------------------------- 0/4 [shapely]\n",
      "   ---------------------------------------- 0/4 [shapely]\n",
      "   ---------- ----------------------------- 1/4 [pyproj]\n",
      "   ---------- ----------------------------- 1/4 [pyproj]\n",
      "   ---------- ----------------------------- 1/4 [pyproj]\n",
      "   ---------- ----------------------------- 1/4 [pyproj]\n",
      "   ---------- ----------------------------- 1/4 [pyproj]\n",
      "   ---------- ----------------------------- 1/4 [pyproj]\n",
      "   ---------- ----------------------------- 1/4 [pyproj]\n",
      "   ---------- ----------------------------- 1/4 [pyproj]\n",
      "   -------------------- ------------------- 2/4 [pyogrio]\n",
      "   -------------------- ------------------- 2/4 [pyogrio]\n",
      "   -------------------- ------------------- 2/4 [pyogrio]\n",
      "   -------------------- ------------------- 2/4 [pyogrio]\n",
      "   -------------------- ------------------- 2/4 [pyogrio]\n",
      "   -------------------- ------------------- 2/4 [pyogrio]\n",
      "   -------------------- ------------------- 2/4 [pyogrio]\n",
      "   -------------------- ------------------- 2/4 [pyogrio]\n",
      "   -------------------- ------------------- 2/4 [pyogrio]\n",
      "   -------------------- ------------------- 2/4 [pyogrio]\n",
      "   -------------------- ------------------- 2/4 [pyogrio]\n",
      "   ------------------------------ --------- 3/4 [geopandas]\n",
      "   ------------------------------ --------- 3/4 [geopandas]\n",
      "   ------------------------------ --------- 3/4 [geopandas]\n",
      "   ------------------------------ --------- 3/4 [geopandas]\n",
      "   ------------------------------ --------- 3/4 [geopandas]\n",
      "   ------------------------------ --------- 3/4 [geopandas]\n",
      "   ------------------------------ --------- 3/4 [geopandas]\n",
      "   ------------------------------ --------- 3/4 [geopandas]\n",
      "   ------------------------------ --------- 3/4 [geopandas]\n",
      "   ------------------------------ --------- 3/4 [geopandas]\n",
      "   ------------------------------ --------- 3/4 [geopandas]\n",
      "   ------------------------------ --------- 3/4 [geopandas]\n",
      "   ------------------------------ --------- 3/4 [geopandas]\n",
      "   ------------------------------ --------- 3/4 [geopandas]\n",
      "   ------------------------------ --------- 3/4 [geopandas]\n",
      "   ------------------------------ --------- 3/4 [geopandas]\n",
      "   ------------------------------ --------- 3/4 [geopandas]\n",
      "   ------------------------------ --------- 3/4 [geopandas]\n",
      "   ------------------------------ --------- 3/4 [geopandas]\n",
      "   ------------------------------ --------- 3/4 [geopandas]\n",
      "   ------------------------------ --------- 3/4 [geopandas]\n",
      "   ------------------------------ --------- 3/4 [geopandas]\n",
      "   ------------------------------ --------- 3/4 [geopandas]\n",
      "   ------------------------------ --------- 3/4 [geopandas]\n",
      "   ------------------------------ --------- 3/4 [geopandas]\n",
      "   ------------------------------ --------- 3/4 [geopandas]\n",
      "   ------------------------------ --------- 3/4 [geopandas]\n",
      "   ---------------------------------------- 4/4 [geopandas]\n",
      "\n",
      "Successfully installed geopandas-1.1.1 pyogrio-0.11.1 pyproj-3.7.2 shapely-2.1.2\n"
     ]
    }
   ],
   "source": [
    "!pip install geopandas"
   ]
  },
  {
   "cell_type": "code",
   "execution_count": 114,
   "id": "fa8864d4-f351-4949-b7b0-1505720ec99b",
   "metadata": {},
   "outputs": [],
   "source": [
    "import geopandas as gpd\n",
    "import folium"
   ]
  },
  {
   "cell_type": "code",
   "execution_count": 115,
   "id": "8fb408ba-8a26-4d9a-bcc1-0e3e49769624",
   "metadata": {},
   "outputs": [],
   "source": [
    "m = folium.Map(location=[47.5, -120.5], zoom_start=6)"
   ]
  },
  {
   "cell_type": "code",
   "execution_count": 116,
   "id": "aa4876bb-5ae9-415a-807b-b30d1f21f731",
   "metadata": {},
   "outputs": [],
   "source": [
    "for _, row in df.dropna(subset=[\"Latitude\", \"Longitude\"]).iterrows():\n",
    "    folium.CircleMarker(\n",
    "        location=[row[\"Latitude\"], row[\"Longitude\"]],\n",
    "        radius=2,\n",
    "        color=\"blue\",\n",
    "        fill=True,\n",
    "        fill_opacity=0.5\n",
    "    ).add_to(m)"
   ]
  },
  {
   "cell_type": "code",
   "execution_count": 117,
   "id": "0d4fe21c-df7c-43fd-84da-d33197d85bda",
   "metadata": {},
   "outputs": [
    {
     "name": "stdout",
     "output_type": "stream",
     "text": [
      "Interactive map saved as EV_Map.html (open in browser)\n"
     ]
    }
   ],
   "source": [
    "m.save(\"EV_Map.html\")\n",
    "print(\"Interactive map saved as EV_Map.html (open in browser)\")"
   ]
  },
  {
   "cell_type": "markdown",
   "id": "bc1d9aab-e06d-4845-b2ea-d7dc43eaa05f",
   "metadata": {},
   "source": [
    "# 4.Linear Regression Model Questions"
   ]
  },
  {
   "cell_type": "markdown",
   "id": "936f20b9-e66b-4ed4-9bac-dff9bbc1fead",
   "metadata": {},
   "source": [
    "How can we use Linear Regression to predict the Electric Range of a vehicle"
   ]
  },
  {
   "cell_type": "code",
   "execution_count": 118,
   "id": "9cd93632-5af8-4c0c-971b-b5f7f02ccbd3",
   "metadata": {},
   "outputs": [],
   "source": [
    "from sklearn.model_selection import train_test_split\n",
    "from sklearn.linear_model import LinearRegression\n",
    "from sklearn.metrics import r2_score, mean_squared_error\n",
    "from sklearn.preprocessing import OneHotEncoder\n",
    "from sklearn.compose import ColumnTransformer\n",
    "from sklearn.pipeline import Pipeline\n",
    "import numpy as np"
   ]
  },
  {
   "cell_type": "code",
   "execution_count": 119,
   "id": "70c30ab2-269d-4c1a-a9d2-724f379a74f3",
   "metadata": {},
   "outputs": [],
   "source": [
    "df[\"Electric Range\"] = pd.to_numeric(df[\"Electric Range\"], errors=\"coerce\")\n",
    "df[\"Base MSRP\"] = pd.to_numeric(df[\"Base MSRP\"], errors=\"coerce\")\n",
    "df[\"Model Year\"] = pd.to_numeric(df[\"Model Year\"], errors=\"coerce\")"
   ]
  },
  {
   "cell_type": "code",
   "execution_count": 120,
   "id": "e59216c7-858a-4ee3-8142-620b8d5eb0f9",
   "metadata": {},
   "outputs": [],
   "source": [
    "df = df.dropna(subset=[\"Electric Range\", \"Base MSRP\", \"Model Year\"])"
   ]
  },
  {
   "cell_type": "code",
   "execution_count": 121,
   "id": "9aa27000-0076-4b50-bee8-fc605f1f5f22",
   "metadata": {},
   "outputs": [
    {
     "data": {
      "text/html": [
       "<div>\n",
       "<style scoped>\n",
       "    .dataframe tbody tr th:only-of-type {\n",
       "        vertical-align: middle;\n",
       "    }\n",
       "\n",
       "    .dataframe tbody tr th {\n",
       "        vertical-align: top;\n",
       "    }\n",
       "\n",
       "    .dataframe thead th {\n",
       "        text-align: right;\n",
       "    }\n",
       "</style>\n",
       "<table border=\"1\" class=\"dataframe\">\n",
       "  <thead>\n",
       "    <tr style=\"text-align: right;\">\n",
       "      <th></th>\n",
       "      <th>VIN (1-10)</th>\n",
       "      <th>County</th>\n",
       "      <th>City</th>\n",
       "      <th>State</th>\n",
       "      <th>Postal Code</th>\n",
       "      <th>Model Year</th>\n",
       "      <th>Make</th>\n",
       "      <th>Model</th>\n",
       "      <th>Electric Vehicle Type</th>\n",
       "      <th>Clean Alternative Fuel Vehicle (CAFV) Eligibility</th>\n",
       "      <th>...</th>\n",
       "      <th>Legislative District</th>\n",
       "      <th>DOL Vehicle ID</th>\n",
       "      <th>Vehicle Location</th>\n",
       "      <th>Electric Utility</th>\n",
       "      <th>2020 Census Tract</th>\n",
       "      <th>VIN_anon</th>\n",
       "      <th>Longitude</th>\n",
       "      <th>Latitude</th>\n",
       "      <th>GoogleMaps</th>\n",
       "      <th>RegionType</th>\n",
       "    </tr>\n",
       "  </thead>\n",
       "  <tbody>\n",
       "    <tr>\n",
       "      <th>0</th>\n",
       "      <td>JTDKN3DP2D</td>\n",
       "      <td>Yakima</td>\n",
       "      <td>Yakima</td>\n",
       "      <td>WA</td>\n",
       "      <td>98902.0</td>\n",
       "      <td>2013</td>\n",
       "      <td>TOYOTA</td>\n",
       "      <td>PRIUS</td>\n",
       "      <td>Plug-in Hybrid Electric Vehicle (PHEV)</td>\n",
       "      <td>Not eligible due to low battery range</td>\n",
       "      <td>...</td>\n",
       "      <td>15.0</td>\n",
       "      <td>165252538</td>\n",
       "      <td>POINT (-120.51904 46.59783)</td>\n",
       "      <td>PACIFICORP</td>\n",
       "      <td>5.307700e+10</td>\n",
       "      <td>bf01895762</td>\n",
       "      <td>-120.51904</td>\n",
       "      <td>46.59783</td>\n",
       "      <td>https://www.google.com/maps?q=46.59783,-120.51904</td>\n",
       "      <td>Urban</td>\n",
       "    </tr>\n",
       "    <tr>\n",
       "      <th>1</th>\n",
       "      <td>1FMCU0E1XS</td>\n",
       "      <td>Kitsap</td>\n",
       "      <td>Port Orchard</td>\n",
       "      <td>WA</td>\n",
       "      <td>98366.0</td>\n",
       "      <td>2025</td>\n",
       "      <td>FORD</td>\n",
       "      <td>ESCAPE</td>\n",
       "      <td>Plug-in Hybrid Electric Vehicle (PHEV)</td>\n",
       "      <td>Clean Alternative Fuel Vehicle Eligible</td>\n",
       "      <td>...</td>\n",
       "      <td>26.0</td>\n",
       "      <td>278572521</td>\n",
       "      <td>POINT (-122.63847 47.54103)</td>\n",
       "      <td>PUGET SOUND ENERGY INC</td>\n",
       "      <td>5.303509e+10</td>\n",
       "      <td>a720d32609</td>\n",
       "      <td>-122.63847</td>\n",
       "      <td>47.54103</td>\n",
       "      <td>https://www.google.com/maps?q=47.54103,-122.63847</td>\n",
       "      <td>Urban</td>\n",
       "    </tr>\n",
       "    <tr>\n",
       "      <th>2</th>\n",
       "      <td>JM3KKBHA9R</td>\n",
       "      <td>Kitsap</td>\n",
       "      <td>Kingston</td>\n",
       "      <td>WA</td>\n",
       "      <td>98346.0</td>\n",
       "      <td>2024</td>\n",
       "      <td>MAZDA</td>\n",
       "      <td>CX-90</td>\n",
       "      <td>Plug-in Hybrid Electric Vehicle (PHEV)</td>\n",
       "      <td>Not eligible due to low battery range</td>\n",
       "      <td>...</td>\n",
       "      <td>23.0</td>\n",
       "      <td>275123642</td>\n",
       "      <td>POINT (-122.4977 47.79802)</td>\n",
       "      <td>PUGET SOUND ENERGY INC</td>\n",
       "      <td>5.303509e+10</td>\n",
       "      <td>ef506f78a5</td>\n",
       "      <td>-122.49770</td>\n",
       "      <td>47.79802</td>\n",
       "      <td>https://www.google.com/maps?q=47.79802,-122.4977</td>\n",
       "      <td>Urban</td>\n",
       "    </tr>\n",
       "    <tr>\n",
       "      <th>3</th>\n",
       "      <td>7SAYGDEE8P</td>\n",
       "      <td>Thurston</td>\n",
       "      <td>Olympia</td>\n",
       "      <td>WA</td>\n",
       "      <td>98501.0</td>\n",
       "      <td>2023</td>\n",
       "      <td>TESLA</td>\n",
       "      <td>MODEL Y</td>\n",
       "      <td>Battery Electric Vehicle (BEV)</td>\n",
       "      <td>Eligibility unknown as battery range has not b...</td>\n",
       "      <td>...</td>\n",
       "      <td>35.0</td>\n",
       "      <td>249569323</td>\n",
       "      <td>POINT (-122.89165 47.03954)</td>\n",
       "      <td>PUGET SOUND ENERGY INC</td>\n",
       "      <td>5.306701e+10</td>\n",
       "      <td>fb3f4d8c86</td>\n",
       "      <td>-122.89165</td>\n",
       "      <td>47.03954</td>\n",
       "      <td>https://www.google.com/maps?q=47.03954,-122.89165</td>\n",
       "      <td>Urban</td>\n",
       "    </tr>\n",
       "    <tr>\n",
       "      <th>4</th>\n",
       "      <td>5YJ3E1EB5K</td>\n",
       "      <td>Thurston</td>\n",
       "      <td>Rainier</td>\n",
       "      <td>WA</td>\n",
       "      <td>98576.0</td>\n",
       "      <td>2019</td>\n",
       "      <td>TESLA</td>\n",
       "      <td>MODEL 3</td>\n",
       "      <td>Battery Electric Vehicle (BEV)</td>\n",
       "      <td>Clean Alternative Fuel Vehicle Eligible</td>\n",
       "      <td>...</td>\n",
       "      <td>20.0</td>\n",
       "      <td>283135107</td>\n",
       "      <td>POINT (-122.68993 46.88897)</td>\n",
       "      <td>PUGET SOUND ENERGY INC</td>\n",
       "      <td>5.306701e+10</td>\n",
       "      <td>5fb1eb0d5a</td>\n",
       "      <td>-122.68993</td>\n",
       "      <td>46.88897</td>\n",
       "      <td>https://www.google.com/maps?q=46.88897,-122.68993</td>\n",
       "      <td>Urban</td>\n",
       "    </tr>\n",
       "    <tr>\n",
       "      <th>...</th>\n",
       "      <td>...</td>\n",
       "      <td>...</td>\n",
       "      <td>...</td>\n",
       "      <td>...</td>\n",
       "      <td>...</td>\n",
       "      <td>...</td>\n",
       "      <td>...</td>\n",
       "      <td>...</td>\n",
       "      <td>...</td>\n",
       "      <td>...</td>\n",
       "      <td>...</td>\n",
       "      <td>...</td>\n",
       "      <td>...</td>\n",
       "      <td>...</td>\n",
       "      <td>...</td>\n",
       "      <td>...</td>\n",
       "      <td>...</td>\n",
       "      <td>...</td>\n",
       "      <td>...</td>\n",
       "      <td>...</td>\n",
       "      <td>...</td>\n",
       "    </tr>\n",
       "    <tr>\n",
       "      <th>261693</th>\n",
       "      <td>KNDC4DLC8P</td>\n",
       "      <td>Clark</td>\n",
       "      <td>Vancouver</td>\n",
       "      <td>WA</td>\n",
       "      <td>98665.0</td>\n",
       "      <td>2023</td>\n",
       "      <td>KIA</td>\n",
       "      <td>EV6</td>\n",
       "      <td>Battery Electric Vehicle (BEV)</td>\n",
       "      <td>Eligibility unknown as battery range has not b...</td>\n",
       "      <td>...</td>\n",
       "      <td>49.0</td>\n",
       "      <td>234925078</td>\n",
       "      <td>POINT (-122.64443 45.67871)</td>\n",
       "      <td>BONNEVILLE POWER ADMINISTRATION||PUD NO 1 OF C...</td>\n",
       "      <td>5.301104e+10</td>\n",
       "      <td>a1f2354106</td>\n",
       "      <td>-122.64443</td>\n",
       "      <td>45.67871</td>\n",
       "      <td>https://www.google.com/maps?q=45.67871,-122.64443</td>\n",
       "      <td>Urban</td>\n",
       "    </tr>\n",
       "    <tr>\n",
       "      <th>261694</th>\n",
       "      <td>1GYKPNRL6S</td>\n",
       "      <td>Snohomish</td>\n",
       "      <td>Snohomish</td>\n",
       "      <td>WA</td>\n",
       "      <td>98296.0</td>\n",
       "      <td>2025</td>\n",
       "      <td>CADILLAC</td>\n",
       "      <td>LYRIQ</td>\n",
       "      <td>Battery Electric Vehicle (BEV)</td>\n",
       "      <td>Eligibility unknown as battery range has not b...</td>\n",
       "      <td>...</td>\n",
       "      <td>1.0</td>\n",
       "      <td>275487509</td>\n",
       "      <td>POINT (-122.1389 47.87115)</td>\n",
       "      <td>PUGET SOUND ENERGY INC</td>\n",
       "      <td>5.306105e+10</td>\n",
       "      <td>35dc54b9e5</td>\n",
       "      <td>-122.13890</td>\n",
       "      <td>47.87115</td>\n",
       "      <td>https://www.google.com/maps?q=47.87115,-122.1389</td>\n",
       "      <td>Urban</td>\n",
       "    </tr>\n",
       "    <tr>\n",
       "      <th>261695</th>\n",
       "      <td>1N4BZ0CP8G</td>\n",
       "      <td>King</td>\n",
       "      <td>Seattle</td>\n",
       "      <td>WA</td>\n",
       "      <td>98144.0</td>\n",
       "      <td>2016</td>\n",
       "      <td>NISSAN</td>\n",
       "      <td>LEAF</td>\n",
       "      <td>Battery Electric Vehicle (BEV)</td>\n",
       "      <td>Clean Alternative Fuel Vehicle Eligible</td>\n",
       "      <td>...</td>\n",
       "      <td>37.0</td>\n",
       "      <td>117655261</td>\n",
       "      <td>POINT (-122.30866 47.57874)</td>\n",
       "      <td>CITY OF SEATTLE - (WA)|CITY OF TACOMA - (WA)</td>\n",
       "      <td>5.303301e+10</td>\n",
       "      <td>85c5705d12</td>\n",
       "      <td>-122.30866</td>\n",
       "      <td>47.57874</td>\n",
       "      <td>https://www.google.com/maps?q=47.57874,-122.30866</td>\n",
       "      <td>Urban</td>\n",
       "    </tr>\n",
       "    <tr>\n",
       "      <th>261696</th>\n",
       "      <td>7SAYGDEE8T</td>\n",
       "      <td>King</td>\n",
       "      <td>Renton</td>\n",
       "      <td>WA</td>\n",
       "      <td>98055.0</td>\n",
       "      <td>2026</td>\n",
       "      <td>TESLA</td>\n",
       "      <td>MODEL Y</td>\n",
       "      <td>Battery Electric Vehicle (BEV)</td>\n",
       "      <td>Eligibility unknown as battery range has not b...</td>\n",
       "      <td>...</td>\n",
       "      <td>33.0</td>\n",
       "      <td>282644701</td>\n",
       "      <td>POINT (-122.20784 47.46004)</td>\n",
       "      <td>PUGET SOUND ENERGY INC||CITY OF TACOMA - (WA)</td>\n",
       "      <td>5.303303e+10</td>\n",
       "      <td>0187e9334f</td>\n",
       "      <td>-122.20784</td>\n",
       "      <td>47.46004</td>\n",
       "      <td>https://www.google.com/maps?q=47.46004,-122.20784</td>\n",
       "      <td>Urban</td>\n",
       "    </tr>\n",
       "    <tr>\n",
       "      <th>261697</th>\n",
       "      <td>5YJ3E1EA4P</td>\n",
       "      <td>King</td>\n",
       "      <td>Bothell</td>\n",
       "      <td>WA</td>\n",
       "      <td>98011.0</td>\n",
       "      <td>2023</td>\n",
       "      <td>TESLA</td>\n",
       "      <td>MODEL 3</td>\n",
       "      <td>Battery Electric Vehicle (BEV)</td>\n",
       "      <td>Eligibility unknown as battery range has not b...</td>\n",
       "      <td>...</td>\n",
       "      <td>1.0</td>\n",
       "      <td>256200906</td>\n",
       "      <td>POINT (-122.20563 47.76144)</td>\n",
       "      <td>PUGET SOUND ENERGY INC||CITY OF TACOMA - (WA)</td>\n",
       "      <td>5.303302e+10</td>\n",
       "      <td>3719e2187a</td>\n",
       "      <td>-122.20563</td>\n",
       "      <td>47.76144</td>\n",
       "      <td>https://www.google.com/maps?q=47.76144,-122.20563</td>\n",
       "      <td>Urban</td>\n",
       "    </tr>\n",
       "  </tbody>\n",
       "</table>\n",
       "<p>261698 rows × 22 columns</p>\n",
       "</div>"
      ],
      "text/plain": [
       "        VIN (1-10)     County          City State  Postal Code  Model Year  \\\n",
       "0       JTDKN3DP2D     Yakima        Yakima    WA      98902.0        2013   \n",
       "1       1FMCU0E1XS     Kitsap  Port Orchard    WA      98366.0        2025   \n",
       "2       JM3KKBHA9R     Kitsap      Kingston    WA      98346.0        2024   \n",
       "3       7SAYGDEE8P   Thurston       Olympia    WA      98501.0        2023   \n",
       "4       5YJ3E1EB5K   Thurston       Rainier    WA      98576.0        2019   \n",
       "...            ...        ...           ...   ...          ...         ...   \n",
       "261693  KNDC4DLC8P      Clark     Vancouver    WA      98665.0        2023   \n",
       "261694  1GYKPNRL6S  Snohomish     Snohomish    WA      98296.0        2025   \n",
       "261695  1N4BZ0CP8G       King       Seattle    WA      98144.0        2016   \n",
       "261696  7SAYGDEE8T       King        Renton    WA      98055.0        2026   \n",
       "261697  5YJ3E1EA4P       King       Bothell    WA      98011.0        2023   \n",
       "\n",
       "            Make    Model                   Electric Vehicle Type  \\\n",
       "0         TOYOTA    PRIUS  Plug-in Hybrid Electric Vehicle (PHEV)   \n",
       "1           FORD   ESCAPE  Plug-in Hybrid Electric Vehicle (PHEV)   \n",
       "2          MAZDA    CX-90  Plug-in Hybrid Electric Vehicle (PHEV)   \n",
       "3          TESLA  MODEL Y          Battery Electric Vehicle (BEV)   \n",
       "4          TESLA  MODEL 3          Battery Electric Vehicle (BEV)   \n",
       "...          ...      ...                                     ...   \n",
       "261693       KIA      EV6          Battery Electric Vehicle (BEV)   \n",
       "261694  CADILLAC    LYRIQ          Battery Electric Vehicle (BEV)   \n",
       "261695    NISSAN     LEAF          Battery Electric Vehicle (BEV)   \n",
       "261696     TESLA  MODEL Y          Battery Electric Vehicle (BEV)   \n",
       "261697     TESLA  MODEL 3          Battery Electric Vehicle (BEV)   \n",
       "\n",
       "        Clean Alternative Fuel Vehicle (CAFV) Eligibility  ...  \\\n",
       "0                   Not eligible due to low battery range  ...   \n",
       "1                 Clean Alternative Fuel Vehicle Eligible  ...   \n",
       "2                   Not eligible due to low battery range  ...   \n",
       "3       Eligibility unknown as battery range has not b...  ...   \n",
       "4                 Clean Alternative Fuel Vehicle Eligible  ...   \n",
       "...                                                   ...  ...   \n",
       "261693  Eligibility unknown as battery range has not b...  ...   \n",
       "261694  Eligibility unknown as battery range has not b...  ...   \n",
       "261695            Clean Alternative Fuel Vehicle Eligible  ...   \n",
       "261696  Eligibility unknown as battery range has not b...  ...   \n",
       "261697  Eligibility unknown as battery range has not b...  ...   \n",
       "\n",
       "        Legislative District  DOL Vehicle ID             Vehicle Location  \\\n",
       "0                       15.0       165252538  POINT (-120.51904 46.59783)   \n",
       "1                       26.0       278572521  POINT (-122.63847 47.54103)   \n",
       "2                       23.0       275123642   POINT (-122.4977 47.79802)   \n",
       "3                       35.0       249569323  POINT (-122.89165 47.03954)   \n",
       "4                       20.0       283135107  POINT (-122.68993 46.88897)   \n",
       "...                      ...             ...                          ...   \n",
       "261693                  49.0       234925078  POINT (-122.64443 45.67871)   \n",
       "261694                   1.0       275487509   POINT (-122.1389 47.87115)   \n",
       "261695                  37.0       117655261  POINT (-122.30866 47.57874)   \n",
       "261696                  33.0       282644701  POINT (-122.20784 47.46004)   \n",
       "261697                   1.0       256200906  POINT (-122.20563 47.76144)   \n",
       "\n",
       "                                         Electric Utility 2020 Census Tract  \\\n",
       "0                                              PACIFICORP      5.307700e+10   \n",
       "1                                  PUGET SOUND ENERGY INC      5.303509e+10   \n",
       "2                                  PUGET SOUND ENERGY INC      5.303509e+10   \n",
       "3                                  PUGET SOUND ENERGY INC      5.306701e+10   \n",
       "4                                  PUGET SOUND ENERGY INC      5.306701e+10   \n",
       "...                                                   ...               ...   \n",
       "261693  BONNEVILLE POWER ADMINISTRATION||PUD NO 1 OF C...      5.301104e+10   \n",
       "261694                             PUGET SOUND ENERGY INC      5.306105e+10   \n",
       "261695       CITY OF SEATTLE - (WA)|CITY OF TACOMA - (WA)      5.303301e+10   \n",
       "261696      PUGET SOUND ENERGY INC||CITY OF TACOMA - (WA)      5.303303e+10   \n",
       "261697      PUGET SOUND ENERGY INC||CITY OF TACOMA - (WA)      5.303302e+10   \n",
       "\n",
       "          VIN_anon  Longitude  Latitude  \\\n",
       "0       bf01895762 -120.51904  46.59783   \n",
       "1       a720d32609 -122.63847  47.54103   \n",
       "2       ef506f78a5 -122.49770  47.79802   \n",
       "3       fb3f4d8c86 -122.89165  47.03954   \n",
       "4       5fb1eb0d5a -122.68993  46.88897   \n",
       "...            ...        ...       ...   \n",
       "261693  a1f2354106 -122.64443  45.67871   \n",
       "261694  35dc54b9e5 -122.13890  47.87115   \n",
       "261695  85c5705d12 -122.30866  47.57874   \n",
       "261696  0187e9334f -122.20784  47.46004   \n",
       "261697  3719e2187a -122.20563  47.76144   \n",
       "\n",
       "                                               GoogleMaps  RegionType  \n",
       "0       https://www.google.com/maps?q=46.59783,-120.51904       Urban  \n",
       "1       https://www.google.com/maps?q=47.54103,-122.63847       Urban  \n",
       "2        https://www.google.com/maps?q=47.79802,-122.4977       Urban  \n",
       "3       https://www.google.com/maps?q=47.03954,-122.89165       Urban  \n",
       "4       https://www.google.com/maps?q=46.88897,-122.68993       Urban  \n",
       "...                                                   ...         ...  \n",
       "261693  https://www.google.com/maps?q=45.67871,-122.64443       Urban  \n",
       "261694   https://www.google.com/maps?q=47.87115,-122.1389       Urban  \n",
       "261695  https://www.google.com/maps?q=47.57874,-122.30866       Urban  \n",
       "261696  https://www.google.com/maps?q=47.46004,-122.20784       Urban  \n",
       "261697  https://www.google.com/maps?q=47.76144,-122.20563       Urban  \n",
       "\n",
       "[261698 rows x 22 columns]"
      ]
     },
     "execution_count": 121,
     "metadata": {},
     "output_type": "execute_result"
    }
   ],
   "source": [
    "df"
   ]
  },
  {
   "cell_type": "markdown",
   "id": "4dfc3823-412a-420c-a1be-7e03c890b823",
   "metadata": {},
   "source": [
    "What independent variables (features) can be used to predict Electric Range? (e.g., Model Year, Base MSRP, Make)"
   ]
  },
  {
   "cell_type": "code",
   "execution_count": 122,
   "id": "4d7b9f3c-f2cb-4f34-a756-7733877f7120",
   "metadata": {},
   "outputs": [],
   "source": [
    "X = df[[\"Model Year\", \"Base MSRP\", \"Make\", \"Model\"]]"
   ]
  },
  {
   "cell_type": "code",
   "execution_count": 123,
   "id": "571c831b-761e-4770-9f95-24e9f18993fe",
   "metadata": {},
   "outputs": [],
   "source": [
    "y = df[\"Electric Range\"]"
   ]
  },
  {
   "cell_type": "markdown",
   "id": "5deb4f7f-35da-4af5-972f-eadb220d40c9",
   "metadata": {},
   "source": [
    "How do we handle categorical variables like Make and Model in regression analysis?"
   ]
  },
  {
   "cell_type": "code",
   "execution_count": 124,
   "id": "d1d2a96e-fbf8-4f66-b677-30ca60bd89e5",
   "metadata": {},
   "outputs": [],
   "source": [
    "categorical_features = [\"Make\", \"Model\"]"
   ]
  },
  {
   "cell_type": "code",
   "execution_count": null,
   "id": "14d6afcc-f5ce-4efa-a222-df36b513bcbe",
   "metadata": {},
   "outputs": [],
   "source": []
  },
  {
   "cell_type": "code",
   "execution_count": 125,
   "id": "5b03ed12-c681-414f-ac30-c8ac510c60c8",
   "metadata": {},
   "outputs": [],
   "source": [
    "numeric_features = [\"Model Year\", \"Base MSRP\"]"
   ]
  },
  {
   "cell_type": "code",
   "execution_count": 126,
   "id": "59c1a050-89dd-485a-915a-ab8dc7ea6988",
   "metadata": {},
   "outputs": [],
   "source": [
    "preprocessor = ColumnTransformer(\n",
    "    transformers=[\n",
    "        (\"cat\", OneHotEncoder(handle_unknown=\"ignore\"), categorical_features),\n",
    "        (\"num\", \"passthrough\", numeric_features)\n",
    "    ]\n",
    ")"
   ]
  },
  {
   "cell_type": "code",
   "execution_count": null,
   "id": "8ab4ffb1-7608-4dbb-8a3b-115bac62ae8a",
   "metadata": {},
   "outputs": [],
   "source": []
  },
  {
   "cell_type": "code",
   "execution_count": 127,
   "id": "65e6eb0d-d89b-42eb-81aa-98a702b0736c",
   "metadata": {},
   "outputs": [],
   "source": [
    "model = Pipeline(steps=[\n",
    "    (\"preprocessor\", preprocessor),\n",
    "    (\"regressor\", LinearRegression())\n",
    "])"
   ]
  },
  {
   "cell_type": "code",
   "execution_count": null,
   "id": "01ff2aa6-e2e9-4276-be6e-068bd4b71c62",
   "metadata": {},
   "outputs": [],
   "source": []
  },
  {
   "cell_type": "code",
   "execution_count": 128,
   "id": "475339c2-d8e6-43c0-aeb1-ce3cab15e82d",
   "metadata": {},
   "outputs": [],
   "source": [
    "X_train, X_test, y_train, y_test = train_test_split(X, y, test_size=0.2, random_state=42)"
   ]
  },
  {
   "cell_type": "code",
   "execution_count": null,
   "id": "6b98cf81-fd35-49a6-84ad-dc15cef3278f",
   "metadata": {},
   "outputs": [],
   "source": []
  },
  {
   "cell_type": "code",
   "execution_count": 129,
   "id": "ee12901a-943a-4bad-b133-cea473fb4890",
   "metadata": {},
   "outputs": [
    {
     "data": {
      "text/html": [
       "<style>#sk-container-id-1 {\n",
       "  /* Definition of color scheme common for light and dark mode */\n",
       "  --sklearn-color-text: #000;\n",
       "  --sklearn-color-text-muted: #666;\n",
       "  --sklearn-color-line: gray;\n",
       "  /* Definition of color scheme for unfitted estimators */\n",
       "  --sklearn-color-unfitted-level-0: #fff5e6;\n",
       "  --sklearn-color-unfitted-level-1: #f6e4d2;\n",
       "  --sklearn-color-unfitted-level-2: #ffe0b3;\n",
       "  --sklearn-color-unfitted-level-3: chocolate;\n",
       "  /* Definition of color scheme for fitted estimators */\n",
       "  --sklearn-color-fitted-level-0: #f0f8ff;\n",
       "  --sklearn-color-fitted-level-1: #d4ebff;\n",
       "  --sklearn-color-fitted-level-2: #b3dbfd;\n",
       "  --sklearn-color-fitted-level-3: cornflowerblue;\n",
       "\n",
       "  /* Specific color for light theme */\n",
       "  --sklearn-color-text-on-default-background: var(--sg-text-color, var(--theme-code-foreground, var(--jp-content-font-color1, black)));\n",
       "  --sklearn-color-background: var(--sg-background-color, var(--theme-background, var(--jp-layout-color0, white)));\n",
       "  --sklearn-color-border-box: var(--sg-text-color, var(--theme-code-foreground, var(--jp-content-font-color1, black)));\n",
       "  --sklearn-color-icon: #696969;\n",
       "\n",
       "  @media (prefers-color-scheme: dark) {\n",
       "    /* Redefinition of color scheme for dark theme */\n",
       "    --sklearn-color-text-on-default-background: var(--sg-text-color, var(--theme-code-foreground, var(--jp-content-font-color1, white)));\n",
       "    --sklearn-color-background: var(--sg-background-color, var(--theme-background, var(--jp-layout-color0, #111)));\n",
       "    --sklearn-color-border-box: var(--sg-text-color, var(--theme-code-foreground, var(--jp-content-font-color1, white)));\n",
       "    --sklearn-color-icon: #878787;\n",
       "  }\n",
       "}\n",
       "\n",
       "#sk-container-id-1 {\n",
       "  color: var(--sklearn-color-text);\n",
       "}\n",
       "\n",
       "#sk-container-id-1 pre {\n",
       "  padding: 0;\n",
       "}\n",
       "\n",
       "#sk-container-id-1 input.sk-hidden--visually {\n",
       "  border: 0;\n",
       "  clip: rect(1px 1px 1px 1px);\n",
       "  clip: rect(1px, 1px, 1px, 1px);\n",
       "  height: 1px;\n",
       "  margin: -1px;\n",
       "  overflow: hidden;\n",
       "  padding: 0;\n",
       "  position: absolute;\n",
       "  width: 1px;\n",
       "}\n",
       "\n",
       "#sk-container-id-1 div.sk-dashed-wrapped {\n",
       "  border: 1px dashed var(--sklearn-color-line);\n",
       "  margin: 0 0.4em 0.5em 0.4em;\n",
       "  box-sizing: border-box;\n",
       "  padding-bottom: 0.4em;\n",
       "  background-color: var(--sklearn-color-background);\n",
       "}\n",
       "\n",
       "#sk-container-id-1 div.sk-container {\n",
       "  /* jupyter's `normalize.less` sets `[hidden] { display: none; }`\n",
       "     but bootstrap.min.css set `[hidden] { display: none !important; }`\n",
       "     so we also need the `!important` here to be able to override the\n",
       "     default hidden behavior on the sphinx rendered scikit-learn.org.\n",
       "     See: https://github.com/scikit-learn/scikit-learn/issues/21755 */\n",
       "  display: inline-block !important;\n",
       "  position: relative;\n",
       "}\n",
       "\n",
       "#sk-container-id-1 div.sk-text-repr-fallback {\n",
       "  display: none;\n",
       "}\n",
       "\n",
       "div.sk-parallel-item,\n",
       "div.sk-serial,\n",
       "div.sk-item {\n",
       "  /* draw centered vertical line to link estimators */\n",
       "  background-image: linear-gradient(var(--sklearn-color-text-on-default-background), var(--sklearn-color-text-on-default-background));\n",
       "  background-size: 2px 100%;\n",
       "  background-repeat: no-repeat;\n",
       "  background-position: center center;\n",
       "}\n",
       "\n",
       "/* Parallel-specific style estimator block */\n",
       "\n",
       "#sk-container-id-1 div.sk-parallel-item::after {\n",
       "  content: \"\";\n",
       "  width: 100%;\n",
       "  border-bottom: 2px solid var(--sklearn-color-text-on-default-background);\n",
       "  flex-grow: 1;\n",
       "}\n",
       "\n",
       "#sk-container-id-1 div.sk-parallel {\n",
       "  display: flex;\n",
       "  align-items: stretch;\n",
       "  justify-content: center;\n",
       "  background-color: var(--sklearn-color-background);\n",
       "  position: relative;\n",
       "}\n",
       "\n",
       "#sk-container-id-1 div.sk-parallel-item {\n",
       "  display: flex;\n",
       "  flex-direction: column;\n",
       "}\n",
       "\n",
       "#sk-container-id-1 div.sk-parallel-item:first-child::after {\n",
       "  align-self: flex-end;\n",
       "  width: 50%;\n",
       "}\n",
       "\n",
       "#sk-container-id-1 div.sk-parallel-item:last-child::after {\n",
       "  align-self: flex-start;\n",
       "  width: 50%;\n",
       "}\n",
       "\n",
       "#sk-container-id-1 div.sk-parallel-item:only-child::after {\n",
       "  width: 0;\n",
       "}\n",
       "\n",
       "/* Serial-specific style estimator block */\n",
       "\n",
       "#sk-container-id-1 div.sk-serial {\n",
       "  display: flex;\n",
       "  flex-direction: column;\n",
       "  align-items: center;\n",
       "  background-color: var(--sklearn-color-background);\n",
       "  padding-right: 1em;\n",
       "  padding-left: 1em;\n",
       "}\n",
       "\n",
       "\n",
       "/* Toggleable style: style used for estimator/Pipeline/ColumnTransformer box that is\n",
       "clickable and can be expanded/collapsed.\n",
       "- Pipeline and ColumnTransformer use this feature and define the default style\n",
       "- Estimators will overwrite some part of the style using the `sk-estimator` class\n",
       "*/\n",
       "\n",
       "/* Pipeline and ColumnTransformer style (default) */\n",
       "\n",
       "#sk-container-id-1 div.sk-toggleable {\n",
       "  /* Default theme specific background. It is overwritten whether we have a\n",
       "  specific estimator or a Pipeline/ColumnTransformer */\n",
       "  background-color: var(--sklearn-color-background);\n",
       "}\n",
       "\n",
       "/* Toggleable label */\n",
       "#sk-container-id-1 label.sk-toggleable__label {\n",
       "  cursor: pointer;\n",
       "  display: flex;\n",
       "  width: 100%;\n",
       "  margin-bottom: 0;\n",
       "  padding: 0.5em;\n",
       "  box-sizing: border-box;\n",
       "  text-align: center;\n",
       "  align-items: start;\n",
       "  justify-content: space-between;\n",
       "  gap: 0.5em;\n",
       "}\n",
       "\n",
       "#sk-container-id-1 label.sk-toggleable__label .caption {\n",
       "  font-size: 0.6rem;\n",
       "  font-weight: lighter;\n",
       "  color: var(--sklearn-color-text-muted);\n",
       "}\n",
       "\n",
       "#sk-container-id-1 label.sk-toggleable__label-arrow:before {\n",
       "  /* Arrow on the left of the label */\n",
       "  content: \"▸\";\n",
       "  float: left;\n",
       "  margin-right: 0.25em;\n",
       "  color: var(--sklearn-color-icon);\n",
       "}\n",
       "\n",
       "#sk-container-id-1 label.sk-toggleable__label-arrow:hover:before {\n",
       "  color: var(--sklearn-color-text);\n",
       "}\n",
       "\n",
       "/* Toggleable content - dropdown */\n",
       "\n",
       "#sk-container-id-1 div.sk-toggleable__content {\n",
       "  max-height: 0;\n",
       "  max-width: 0;\n",
       "  overflow: hidden;\n",
       "  text-align: left;\n",
       "  /* unfitted */\n",
       "  background-color: var(--sklearn-color-unfitted-level-0);\n",
       "}\n",
       "\n",
       "#sk-container-id-1 div.sk-toggleable__content.fitted {\n",
       "  /* fitted */\n",
       "  background-color: var(--sklearn-color-fitted-level-0);\n",
       "}\n",
       "\n",
       "#sk-container-id-1 div.sk-toggleable__content pre {\n",
       "  margin: 0.2em;\n",
       "  border-radius: 0.25em;\n",
       "  color: var(--sklearn-color-text);\n",
       "  /* unfitted */\n",
       "  background-color: var(--sklearn-color-unfitted-level-0);\n",
       "}\n",
       "\n",
       "#sk-container-id-1 div.sk-toggleable__content.fitted pre {\n",
       "  /* unfitted */\n",
       "  background-color: var(--sklearn-color-fitted-level-0);\n",
       "}\n",
       "\n",
       "#sk-container-id-1 input.sk-toggleable__control:checked~div.sk-toggleable__content {\n",
       "  /* Expand drop-down */\n",
       "  max-height: 200px;\n",
       "  max-width: 100%;\n",
       "  overflow: auto;\n",
       "}\n",
       "\n",
       "#sk-container-id-1 input.sk-toggleable__control:checked~label.sk-toggleable__label-arrow:before {\n",
       "  content: \"▾\";\n",
       "}\n",
       "\n",
       "/* Pipeline/ColumnTransformer-specific style */\n",
       "\n",
       "#sk-container-id-1 div.sk-label input.sk-toggleable__control:checked~label.sk-toggleable__label {\n",
       "  color: var(--sklearn-color-text);\n",
       "  background-color: var(--sklearn-color-unfitted-level-2);\n",
       "}\n",
       "\n",
       "#sk-container-id-1 div.sk-label.fitted input.sk-toggleable__control:checked~label.sk-toggleable__label {\n",
       "  background-color: var(--sklearn-color-fitted-level-2);\n",
       "}\n",
       "\n",
       "/* Estimator-specific style */\n",
       "\n",
       "/* Colorize estimator box */\n",
       "#sk-container-id-1 div.sk-estimator input.sk-toggleable__control:checked~label.sk-toggleable__label {\n",
       "  /* unfitted */\n",
       "  background-color: var(--sklearn-color-unfitted-level-2);\n",
       "}\n",
       "\n",
       "#sk-container-id-1 div.sk-estimator.fitted input.sk-toggleable__control:checked~label.sk-toggleable__label {\n",
       "  /* fitted */\n",
       "  background-color: var(--sklearn-color-fitted-level-2);\n",
       "}\n",
       "\n",
       "#sk-container-id-1 div.sk-label label.sk-toggleable__label,\n",
       "#sk-container-id-1 div.sk-label label {\n",
       "  /* The background is the default theme color */\n",
       "  color: var(--sklearn-color-text-on-default-background);\n",
       "}\n",
       "\n",
       "/* On hover, darken the color of the background */\n",
       "#sk-container-id-1 div.sk-label:hover label.sk-toggleable__label {\n",
       "  color: var(--sklearn-color-text);\n",
       "  background-color: var(--sklearn-color-unfitted-level-2);\n",
       "}\n",
       "\n",
       "/* Label box, darken color on hover, fitted */\n",
       "#sk-container-id-1 div.sk-label.fitted:hover label.sk-toggleable__label.fitted {\n",
       "  color: var(--sklearn-color-text);\n",
       "  background-color: var(--sklearn-color-fitted-level-2);\n",
       "}\n",
       "\n",
       "/* Estimator label */\n",
       "\n",
       "#sk-container-id-1 div.sk-label label {\n",
       "  font-family: monospace;\n",
       "  font-weight: bold;\n",
       "  display: inline-block;\n",
       "  line-height: 1.2em;\n",
       "}\n",
       "\n",
       "#sk-container-id-1 div.sk-label-container {\n",
       "  text-align: center;\n",
       "}\n",
       "\n",
       "/* Estimator-specific */\n",
       "#sk-container-id-1 div.sk-estimator {\n",
       "  font-family: monospace;\n",
       "  border: 1px dotted var(--sklearn-color-border-box);\n",
       "  border-radius: 0.25em;\n",
       "  box-sizing: border-box;\n",
       "  margin-bottom: 0.5em;\n",
       "  /* unfitted */\n",
       "  background-color: var(--sklearn-color-unfitted-level-0);\n",
       "}\n",
       "\n",
       "#sk-container-id-1 div.sk-estimator.fitted {\n",
       "  /* fitted */\n",
       "  background-color: var(--sklearn-color-fitted-level-0);\n",
       "}\n",
       "\n",
       "/* on hover */\n",
       "#sk-container-id-1 div.sk-estimator:hover {\n",
       "  /* unfitted */\n",
       "  background-color: var(--sklearn-color-unfitted-level-2);\n",
       "}\n",
       "\n",
       "#sk-container-id-1 div.sk-estimator.fitted:hover {\n",
       "  /* fitted */\n",
       "  background-color: var(--sklearn-color-fitted-level-2);\n",
       "}\n",
       "\n",
       "/* Specification for estimator info (e.g. \"i\" and \"?\") */\n",
       "\n",
       "/* Common style for \"i\" and \"?\" */\n",
       "\n",
       ".sk-estimator-doc-link,\n",
       "a:link.sk-estimator-doc-link,\n",
       "a:visited.sk-estimator-doc-link {\n",
       "  float: right;\n",
       "  font-size: smaller;\n",
       "  line-height: 1em;\n",
       "  font-family: monospace;\n",
       "  background-color: var(--sklearn-color-background);\n",
       "  border-radius: 1em;\n",
       "  height: 1em;\n",
       "  width: 1em;\n",
       "  text-decoration: none !important;\n",
       "  margin-left: 0.5em;\n",
       "  text-align: center;\n",
       "  /* unfitted */\n",
       "  border: var(--sklearn-color-unfitted-level-1) 1pt solid;\n",
       "  color: var(--sklearn-color-unfitted-level-1);\n",
       "}\n",
       "\n",
       ".sk-estimator-doc-link.fitted,\n",
       "a:link.sk-estimator-doc-link.fitted,\n",
       "a:visited.sk-estimator-doc-link.fitted {\n",
       "  /* fitted */\n",
       "  border: var(--sklearn-color-fitted-level-1) 1pt solid;\n",
       "  color: var(--sklearn-color-fitted-level-1);\n",
       "}\n",
       "\n",
       "/* On hover */\n",
       "div.sk-estimator:hover .sk-estimator-doc-link:hover,\n",
       ".sk-estimator-doc-link:hover,\n",
       "div.sk-label-container:hover .sk-estimator-doc-link:hover,\n",
       ".sk-estimator-doc-link:hover {\n",
       "  /* unfitted */\n",
       "  background-color: var(--sklearn-color-unfitted-level-3);\n",
       "  color: var(--sklearn-color-background);\n",
       "  text-decoration: none;\n",
       "}\n",
       "\n",
       "div.sk-estimator.fitted:hover .sk-estimator-doc-link.fitted:hover,\n",
       ".sk-estimator-doc-link.fitted:hover,\n",
       "div.sk-label-container:hover .sk-estimator-doc-link.fitted:hover,\n",
       ".sk-estimator-doc-link.fitted:hover {\n",
       "  /* fitted */\n",
       "  background-color: var(--sklearn-color-fitted-level-3);\n",
       "  color: var(--sklearn-color-background);\n",
       "  text-decoration: none;\n",
       "}\n",
       "\n",
       "/* Span, style for the box shown on hovering the info icon */\n",
       ".sk-estimator-doc-link span {\n",
       "  display: none;\n",
       "  z-index: 9999;\n",
       "  position: relative;\n",
       "  font-weight: normal;\n",
       "  right: .2ex;\n",
       "  padding: .5ex;\n",
       "  margin: .5ex;\n",
       "  width: min-content;\n",
       "  min-width: 20ex;\n",
       "  max-width: 50ex;\n",
       "  color: var(--sklearn-color-text);\n",
       "  box-shadow: 2pt 2pt 4pt #999;\n",
       "  /* unfitted */\n",
       "  background: var(--sklearn-color-unfitted-level-0);\n",
       "  border: .5pt solid var(--sklearn-color-unfitted-level-3);\n",
       "}\n",
       "\n",
       ".sk-estimator-doc-link.fitted span {\n",
       "  /* fitted */\n",
       "  background: var(--sklearn-color-fitted-level-0);\n",
       "  border: var(--sklearn-color-fitted-level-3);\n",
       "}\n",
       "\n",
       ".sk-estimator-doc-link:hover span {\n",
       "  display: block;\n",
       "}\n",
       "\n",
       "/* \"?\"-specific style due to the `<a>` HTML tag */\n",
       "\n",
       "#sk-container-id-1 a.estimator_doc_link {\n",
       "  float: right;\n",
       "  font-size: 1rem;\n",
       "  line-height: 1em;\n",
       "  font-family: monospace;\n",
       "  background-color: var(--sklearn-color-background);\n",
       "  border-radius: 1rem;\n",
       "  height: 1rem;\n",
       "  width: 1rem;\n",
       "  text-decoration: none;\n",
       "  /* unfitted */\n",
       "  color: var(--sklearn-color-unfitted-level-1);\n",
       "  border: var(--sklearn-color-unfitted-level-1) 1pt solid;\n",
       "}\n",
       "\n",
       "#sk-container-id-1 a.estimator_doc_link.fitted {\n",
       "  /* fitted */\n",
       "  border: var(--sklearn-color-fitted-level-1) 1pt solid;\n",
       "  color: var(--sklearn-color-fitted-level-1);\n",
       "}\n",
       "\n",
       "/* On hover */\n",
       "#sk-container-id-1 a.estimator_doc_link:hover {\n",
       "  /* unfitted */\n",
       "  background-color: var(--sklearn-color-unfitted-level-3);\n",
       "  color: var(--sklearn-color-background);\n",
       "  text-decoration: none;\n",
       "}\n",
       "\n",
       "#sk-container-id-1 a.estimator_doc_link.fitted:hover {\n",
       "  /* fitted */\n",
       "  background-color: var(--sklearn-color-fitted-level-3);\n",
       "}\n",
       "</style><div id=\"sk-container-id-1\" class=\"sk-top-container\"><div class=\"sk-text-repr-fallback\"><pre>Pipeline(steps=[(&#x27;preprocessor&#x27;,\n",
       "                 ColumnTransformer(transformers=[(&#x27;cat&#x27;,\n",
       "                                                  OneHotEncoder(handle_unknown=&#x27;ignore&#x27;),\n",
       "                                                  [&#x27;Make&#x27;, &#x27;Model&#x27;]),\n",
       "                                                 (&#x27;num&#x27;, &#x27;passthrough&#x27;,\n",
       "                                                  [&#x27;Model Year&#x27;,\n",
       "                                                   &#x27;Base MSRP&#x27;])])),\n",
       "                (&#x27;regressor&#x27;, LinearRegression())])</pre><b>In a Jupyter environment, please rerun this cell to show the HTML representation or trust the notebook. <br />On GitHub, the HTML representation is unable to render, please try loading this page with nbviewer.org.</b></div><div class=\"sk-container\" hidden><div class=\"sk-item sk-dashed-wrapped\"><div class=\"sk-label-container\"><div class=\"sk-label fitted sk-toggleable\"><input class=\"sk-toggleable__control sk-hidden--visually\" id=\"sk-estimator-id-1\" type=\"checkbox\" ><label for=\"sk-estimator-id-1\" class=\"sk-toggleable__label fitted sk-toggleable__label-arrow\"><div><div>Pipeline</div></div><div><a class=\"sk-estimator-doc-link fitted\" rel=\"noreferrer\" target=\"_blank\" href=\"https://scikit-learn.org/1.6/modules/generated/sklearn.pipeline.Pipeline.html\">?<span>Documentation for Pipeline</span></a><span class=\"sk-estimator-doc-link fitted\">i<span>Fitted</span></span></div></label><div class=\"sk-toggleable__content fitted\"><pre>Pipeline(steps=[(&#x27;preprocessor&#x27;,\n",
       "                 ColumnTransformer(transformers=[(&#x27;cat&#x27;,\n",
       "                                                  OneHotEncoder(handle_unknown=&#x27;ignore&#x27;),\n",
       "                                                  [&#x27;Make&#x27;, &#x27;Model&#x27;]),\n",
       "                                                 (&#x27;num&#x27;, &#x27;passthrough&#x27;,\n",
       "                                                  [&#x27;Model Year&#x27;,\n",
       "                                                   &#x27;Base MSRP&#x27;])])),\n",
       "                (&#x27;regressor&#x27;, LinearRegression())])</pre></div> </div></div><div class=\"sk-serial\"><div class=\"sk-item sk-dashed-wrapped\"><div class=\"sk-label-container\"><div class=\"sk-label fitted sk-toggleable\"><input class=\"sk-toggleable__control sk-hidden--visually\" id=\"sk-estimator-id-2\" type=\"checkbox\" ><label for=\"sk-estimator-id-2\" class=\"sk-toggleable__label fitted sk-toggleable__label-arrow\"><div><div>preprocessor: ColumnTransformer</div></div><div><a class=\"sk-estimator-doc-link fitted\" rel=\"noreferrer\" target=\"_blank\" href=\"https://scikit-learn.org/1.6/modules/generated/sklearn.compose.ColumnTransformer.html\">?<span>Documentation for preprocessor: ColumnTransformer</span></a></div></label><div class=\"sk-toggleable__content fitted\"><pre>ColumnTransformer(transformers=[(&#x27;cat&#x27;, OneHotEncoder(handle_unknown=&#x27;ignore&#x27;),\n",
       "                                 [&#x27;Make&#x27;, &#x27;Model&#x27;]),\n",
       "                                (&#x27;num&#x27;, &#x27;passthrough&#x27;,\n",
       "                                 [&#x27;Model Year&#x27;, &#x27;Base MSRP&#x27;])])</pre></div> </div></div><div class=\"sk-parallel\"><div class=\"sk-parallel-item\"><div class=\"sk-item\"><div class=\"sk-label-container\"><div class=\"sk-label fitted sk-toggleable\"><input class=\"sk-toggleable__control sk-hidden--visually\" id=\"sk-estimator-id-3\" type=\"checkbox\" ><label for=\"sk-estimator-id-3\" class=\"sk-toggleable__label fitted sk-toggleable__label-arrow\"><div><div>cat</div></div></label><div class=\"sk-toggleable__content fitted\"><pre>[&#x27;Make&#x27;, &#x27;Model&#x27;]</pre></div> </div></div><div class=\"sk-serial\"><div class=\"sk-item\"><div class=\"sk-estimator fitted sk-toggleable\"><input class=\"sk-toggleable__control sk-hidden--visually\" id=\"sk-estimator-id-4\" type=\"checkbox\" ><label for=\"sk-estimator-id-4\" class=\"sk-toggleable__label fitted sk-toggleable__label-arrow\"><div><div>OneHotEncoder</div></div><div><a class=\"sk-estimator-doc-link fitted\" rel=\"noreferrer\" target=\"_blank\" href=\"https://scikit-learn.org/1.6/modules/generated/sklearn.preprocessing.OneHotEncoder.html\">?<span>Documentation for OneHotEncoder</span></a></div></label><div class=\"sk-toggleable__content fitted\"><pre>OneHotEncoder(handle_unknown=&#x27;ignore&#x27;)</pre></div> </div></div></div></div></div><div class=\"sk-parallel-item\"><div class=\"sk-item\"><div class=\"sk-label-container\"><div class=\"sk-label fitted sk-toggleable\"><input class=\"sk-toggleable__control sk-hidden--visually\" id=\"sk-estimator-id-5\" type=\"checkbox\" ><label for=\"sk-estimator-id-5\" class=\"sk-toggleable__label fitted sk-toggleable__label-arrow\"><div><div>num</div></div></label><div class=\"sk-toggleable__content fitted\"><pre>[&#x27;Model Year&#x27;, &#x27;Base MSRP&#x27;]</pre></div> </div></div><div class=\"sk-serial\"><div class=\"sk-item\"><div class=\"sk-estimator fitted sk-toggleable\"><input class=\"sk-toggleable__control sk-hidden--visually\" id=\"sk-estimator-id-6\" type=\"checkbox\" ><label for=\"sk-estimator-id-6\" class=\"sk-toggleable__label fitted sk-toggleable__label-arrow\"><div><div>passthrough</div></div></label><div class=\"sk-toggleable__content fitted\"><pre>passthrough</pre></div> </div></div></div></div></div></div></div><div class=\"sk-item\"><div class=\"sk-estimator fitted sk-toggleable\"><input class=\"sk-toggleable__control sk-hidden--visually\" id=\"sk-estimator-id-7\" type=\"checkbox\" ><label for=\"sk-estimator-id-7\" class=\"sk-toggleable__label fitted sk-toggleable__label-arrow\"><div><div>LinearRegression</div></div><div><a class=\"sk-estimator-doc-link fitted\" rel=\"noreferrer\" target=\"_blank\" href=\"https://scikit-learn.org/1.6/modules/generated/sklearn.linear_model.LinearRegression.html\">?<span>Documentation for LinearRegression</span></a></div></label><div class=\"sk-toggleable__content fitted\"><pre>LinearRegression()</pre></div> </div></div></div></div></div></div>"
      ],
      "text/plain": [
       "Pipeline(steps=[('preprocessor',\n",
       "                 ColumnTransformer(transformers=[('cat',\n",
       "                                                  OneHotEncoder(handle_unknown='ignore'),\n",
       "                                                  ['Make', 'Model']),\n",
       "                                                 ('num', 'passthrough',\n",
       "                                                  ['Model Year',\n",
       "                                                   'Base MSRP'])])),\n",
       "                ('regressor', LinearRegression())])"
      ]
     },
     "execution_count": 129,
     "metadata": {},
     "output_type": "execute_result"
    }
   ],
   "source": [
    "model.fit(X_train, y_train)"
   ]
  },
  {
   "cell_type": "code",
   "execution_count": null,
   "id": "c25a6276-3ad5-4ce4-9ed4-d27baf960e93",
   "metadata": {},
   "outputs": [],
   "source": []
  },
  {
   "cell_type": "code",
   "execution_count": 130,
   "id": "559df811-4c99-4fe9-8a12-de6ec2692925",
   "metadata": {},
   "outputs": [],
   "source": [
    "y_pred = model.predict(X_test)"
   ]
  },
  {
   "cell_type": "code",
   "execution_count": null,
   "id": "b50c8f5d-c3c0-4fd8-8341-d15a8551e746",
   "metadata": {},
   "outputs": [],
   "source": []
  },
  {
   "cell_type": "code",
   "execution_count": 131,
   "id": "b998cee4-8aff-4907-b0aa-7b104f595671",
   "metadata": {},
   "outputs": [],
   "source": [
    "r2 = r2_score(y_test, y_pred)"
   ]
  },
  {
   "cell_type": "code",
   "execution_count": 132,
   "id": "fbac0679-19ea-4b3c-b251-42d269fd18c4",
   "metadata": {},
   "outputs": [],
   "source": [
    "rmse = np.sqrt(mean_squared_error(y_test, y_pred))"
   ]
  },
  {
   "cell_type": "markdown",
   "id": "417cfed3-3aa7-43ba-8cd6-c1ccf317375d",
   "metadata": {},
   "source": [
    " What is the R² score of the model, and what does it indicate about prediction accuracy?"
   ]
  },
  {
   "cell_type": "code",
   "execution_count": 134,
   "id": "3562c714-dff3-4a87-9c3a-0c83193330e4",
   "metadata": {},
   "outputs": [
    {
     "name": "stdout",
     "output_type": "stream",
     "text": [
      "R² Score: 0.518\n"
     ]
    }
   ],
   "source": [
    "print(f\"R² Score: {r2:.3f}\")"
   ]
  },
  {
   "cell_type": "markdown",
   "id": "2af4b3e5-480c-4e21-bb1d-fa4027afc7e9",
   "metadata": {},
   "source": [
    " How does the Base MSRP influence the Electric Range according to the regression model"
   ]
  },
  {
   "cell_type": "code",
   "execution_count": 135,
   "id": "9895eb02-4e84-4668-8534-15a29fa44262",
   "metadata": {},
   "outputs": [
    {
     "name": "stdout",
     "output_type": "stream",
     "text": [
      "RMSE: 46.68 miles\n"
     ]
    }
   ],
   "source": [
    "print(f\"RMSE: {rmse:.2f} miles\")"
   ]
  },
  {
   "cell_type": "markdown",
   "id": "85df1da5-9b75-4301-928d-6cfe2efcd9f2",
   "metadata": {},
   "source": [
    "What steps are needed to improve the accuracy of the Linear Regression model?"
   ]
  },
  {
   "cell_type": "code",
   "execution_count": null,
   "id": "acc8b467-5985-4794-ba63-eda15cd357ea",
   "metadata": {},
   "outputs": [],
   "source": []
  },
  {
   "cell_type": "code",
   "execution_count": 136,
   "id": "b14ae7e4-9c75-4404-bd26-047edc00d31e",
   "metadata": {},
   "outputs": [],
   "source": [
    "regressor = model.named_steps[\"regressor\"]"
   ]
  },
  {
   "cell_type": "code",
   "execution_count": 137,
   "id": "4c1e5f64-fa5e-4ad4-811e-e5ac3a1f2de8",
   "metadata": {},
   "outputs": [],
   "source": [
    "encoder = model.named_steps[\"preprocessor\"].named_transformers_[\"cat\"]"
   ]
  },
  {
   "cell_type": "code",
   "execution_count": null,
   "id": "97959638-dc24-4eab-a19f-299f38bcd251",
   "metadata": {},
   "outputs": [],
   "source": []
  },
  {
   "cell_type": "code",
   "execution_count": 138,
   "id": "9b0cc502-0b0d-4bb4-a766-3d9663dd0d6f",
   "metadata": {},
   "outputs": [],
   "source": [
    "encoded_cats = encoder.get_feature_names_out(categorical_features)"
   ]
  },
  {
   "cell_type": "code",
   "execution_count": 139,
   "id": "85ca429c-8dae-4efc-a88c-a257fc4c6c3b",
   "metadata": {},
   "outputs": [],
   "source": [
    "all_features = list(encoded_cats) + numeric_features"
   ]
  },
  {
   "cell_type": "code",
   "execution_count": null,
   "id": "ec58fe7b-5b1e-42b8-80af-b325c3c00412",
   "metadata": {},
   "outputs": [],
   "source": []
  },
  {
   "cell_type": "code",
   "execution_count": 140,
   "id": "efbe2f7f-3b2a-4ae7-b785-0587ead76a6c",
   "metadata": {},
   "outputs": [],
   "source": [
    "coeffs = pd.DataFrame({\n",
    "    \"Feature\": all_features,\n",
    "    \"Coefficient\": regressor.coef_\n",
    "}).sort_values(by=\"Coefficient\", ascending=False)"
   ]
  },
  {
   "cell_type": "code",
   "execution_count": 141,
   "id": "b832693c-d0d8-4a47-9055-97989905ae61",
   "metadata": {},
   "outputs": [
    {
     "name": "stdout",
     "output_type": "stream",
     "text": [
      "\n",
      " Feature Coefficients (Top 10):\n"
     ]
    }
   ],
   "source": [
    "print(\"\\n Feature Coefficients (Top 10):\")"
   ]
  },
  {
   "cell_type": "code",
   "execution_count": 142,
   "id": "71bdced7-c3e6-4158-8e4b-76cab1344958",
   "metadata": {},
   "outputs": [
    {
     "name": "stdout",
     "output_type": "stream",
     "text": [
      "           Feature  Coefficient\n",
      "69   Model_BOLT EV    93.910252\n",
      "89    Model_E-TRON    86.679777\n",
      "71      Model_BZ4X    65.596364\n",
      "146    Model_MACAN    60.181861\n",
      "108    Model_F-150    47.994506\n",
      "18     Make_JAGUAR    47.751494\n",
      "127   Model_I-PACE    47.751494\n",
      "140       Model_IX    43.941668\n",
      "129       Model_I4    40.810889\n",
      "39      Make_TESLA    40.664536\n"
     ]
    }
   ],
   "source": [
    "print(coeffs.head(10))"
   ]
  },
  {
   "cell_type": "code",
   "execution_count": null,
   "id": "307671d6-6988-4509-8ffe-e87c5ffa4858",
   "metadata": {},
   "outputs": [],
   "source": []
  },
  {
   "cell_type": "code",
   "execution_count": 143,
   "id": "035444f2-eaf7-44e9-bf44-b7adad882e56",
   "metadata": {},
   "outputs": [],
   "source": [
    "new_ev = pd.DataFrame({\n",
    "    \"Model Year\": [2025],\n",
    "    \"Base MSRP\": [55000],\n",
    "    \"Make\": [\"TESLA\"],\n",
    "    \"Model\": [\"MODEL Y\"]\n",
    "})"
   ]
  },
  {
   "cell_type": "code",
   "execution_count": null,
   "id": "fba7af20-20ed-4aa7-a567-72276cc0a772",
   "metadata": {},
   "outputs": [],
   "source": []
  },
  {
   "cell_type": "code",
   "execution_count": 144,
   "id": "a0db4dac-88e0-4747-88a0-f473bd2f8883",
   "metadata": {},
   "outputs": [],
   "source": [
    "predicted_range = model.predict(new_ev)"
   ]
  },
  {
   "cell_type": "markdown",
   "id": "15a612ae-32d0-4744-85b7-604af825f6a4",
   "metadata": {},
   "source": [
    "Can we use this model to predict the range of new EV models based on their specifications?"
   ]
  },
  {
   "cell_type": "code",
   "execution_count": 145,
   "id": "5b0b1da2-b479-42da-8535-a571cd7f70c8",
   "metadata": {},
   "outputs": [
    {
     "name": "stdout",
     "output_type": "stream",
     "text": [
      "\n",
      " Predicted Electric Range for TESLA MODEL Y (2025): 40.2 miles\n"
     ]
    }
   ],
   "source": [
    "print(f\"\\n Predicted Electric Range for {new_ev.iloc[0]['Make']} {new_ev.iloc[0]['Model']} ({new_ev.iloc[0]['Model Year']}): {predicted_range[0]:.1f} miles\")"
   ]
  },
  {
   "cell_type": "code",
   "execution_count": null,
   "id": "ea6ba800-3e69-46f3-ba03-98665be800eb",
   "metadata": {},
   "outputs": [],
   "source": []
  },
  {
   "cell_type": "code",
   "execution_count": 146,
   "id": "fbcf7c05-0c87-496f-b6d6-f1ceb79fb880",
   "metadata": {},
   "outputs": [
    {
     "data": {
      "image/png": "[encoded data removed]",
      "text/plain": [
       "<Figure size 800x600 with 1 Axes>"
      ]
     },
     "metadata": {},
     "output_type": "display_data"
    }
   ],
   "source": [
    "# --- Plot Predicted vs Actual Electric Range ---\n",
    "plt.figure(figsize=(8, 6))\n",
    "sns.scatterplot(x=y_test, y=y_pred, alpha=0.6)\n",
    "plt.plot([y_test.min(), y_test.max()], [y_test.min(), y_test.max()], 'r--')  # perfect prediction line\n",
    "plt.xlabel(\"Actual Electric Range (miles)\")\n",
    "plt.ylabel(\"Predicted Electric Range (miles)\")\n",
    "plt.title(\"Predicted vs Actual Electric Range\")\n",
    "plt.show()"
   ]
  },
  {
   "cell_type": "code",
   "execution_count": null,
   "id": "2720914d-c323-4f40-9be4-3d6e3929bfa3",
   "metadata": {},
   "outputs": [],
   "source": []
  }
 ],
 "metadata": {
  "kernelspec": {
   "display_name": "Python [conda env:base] *",
   "language": "python",
   "name": "conda-base-py"
  },
  "language_info": {
   "codemirror_mode": {
    "name": "ipython",
    "version": 3
   },
   "file_extension": ".py",
   "mimetype": "text/x-python",
   "name": "python",
   "nbconvert_exporter": "python",
   "pygments_lexer": "ipython3",
   "version": "3.13.5"
  }
 },
 "nbformat": 4,
 "nbformat_minor": 5
}
